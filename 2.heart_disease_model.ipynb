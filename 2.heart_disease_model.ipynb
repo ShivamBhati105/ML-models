{
  "cells": [
    {
      "cell_type": "markdown",
      "metadata": {
        "id": "view-in-github",
        "colab_type": "text"
      },
      "source": [
        "<a href=\"https://colab.research.google.com/github/ShivamBhati105/ML-models/blob/main/2.heart_disease_model.ipynb\" target=\"_parent\"><img src=\"https://colab.research.google.com/assets/colab-badge.svg\" alt=\"Open In Colab\"/></a>"
      ]
    },
    {
      "cell_type": "markdown",
      "id": "88c972a6-9cc3-4ced-adca-145767d1e0cf",
      "metadata": {
        "id": "88c972a6-9cc3-4ced-adca-145767d1e0cf"
      },
      "source": [
        "# Project for Industrial training\n",
        "\n",
        "Predicting heart disease using machine learning\n",
        "\n",
        "We're going to take the following appraoch:\n",
        "1. Problem definition\n",
        "2. Data\n",
        "3. Evaluation\n",
        "4. Features\n",
        "5. Modelling\n",
        "6. Experimentation\n",
        " someone?"
      ]
    },
    {
      "cell_type": "markdown",
      "id": "a4e213c9-c17d-422b-b512-c187da053baa",
      "metadata": {
        "id": "a4e213c9-c17d-422b-b512-c187da053baa"
      },
      "source": [
        "## 1. Problem Definition\n",
        "\n",
        "In a statement,\n",
        "> Given clinical parameters about patient , can we predict whether or not they have heart disease?\n",
        "\n",
        "## 2. Data\n",
        "\n",
        "The original data came from the Cleavland data from the UCi Machine Learning Repository.\n",
        "https://archive.ics.uci.edu/dataset/45/heart+disease\n",
        "\n",
        "There is also a version of it available on Kaggle.  https://www.kaggle.com/datasets/redwankarimsony/heart-disease-data\n",
        "\n",
        "## 3. Evaluation\n",
        "\n",
        "> If  we can reach 95% accuracy at predicting whether or not a patient has heart disease during the proof of concept , we'll pursue the project.\n",
        "\n",
        "## 4. Features\n",
        "**Create data dictionary**\n",
        "The following are the features we'll use to predict out target\n",
        "1. age- age in years\n",
        "2. sex -(1= male;0=female)\n",
        "3. cp-chest pain type\n",
        "    * 0: Typical angina: chest pain related decrease blood supply to the heart\n",
        "    * 1: Atypical angina: chest pain not related to heart\n",
        "    * 2: Non-anginal pain: typically esophageal spasms (non heart related)\n",
        "    * 3: Asymptomatic: chest pain not showing signs of disease\n",
        "4\n",
        ":\n",
        "5. trestbps - rest blood pressure(in mm Hg on admission to the hospital)\n",
        "   * anything above 130-140 is typically cause for conc5rn\n",
        "6. chol - serum cholestoral in mg/dl\n",
        "   * serum = LDL + HDL + .2 * triglycer\n",
        "   * above 200 is cause for concern\n",
        "6. fbs - (fasting blood sugar > 120 mg/dl) (1 = true; 0 = false)\n",
        "    * '>126' mg/dL signals diabetes\n",
        "7. restecg - resting electrocardiographic results\n",
        "    * 0: Nothing to note\n",
        "    * 1: ST-T Wave abnormality\n",
        "        * can range from mild symptoms to severe problems\n",
        "        * signals non-normal heart beat\n",
        "    * 2: Possible or definite left ventricular hypertrophy\n",
        "        * Enlarged heart's main pumping chamber\n",
        "8. thalach - maximaum heart rate achived\n",
        "9. exang - exercise induced angina(1=yes,0=no)\n",
        "10. oldpeak -St depression induced by exercise relative to rest\n",
        "    * looks at stress of heart during exercise\n",
        "    * unhealthy heart will stress more\n",
        "11. slope - the slope of the peak exercise ST segment\n",
        "    * 0: Upsloping: better heart rate with excercise (uncommon)\n",
        "    * 1: Flatsloping: minimal change (typical healthy heart)\n",
        "    * 2: Downslopins: signs of unhealthy heart\n",
        "12. ca - number of major vessels (0-3) colored by flourosopy\n",
        "    * colored vessel means the doctor can see the blood passing through\n",
        "    * the more blood movement the better (no clots)\n",
        "   \n",
        "13. thal - thalium stress result\n",
        "    * 1,3: normal\n",
        "    * 6: fixed defect: used to be defect but ok now\n",
        "    * 7: reversable defect: no proper blood movement when excercising\n",
        "   \n",
        "14. target - have disease or not\n",
        "    \n",
        "\n",
        "\n",
        "\n",
        ".\n",
        "\n",
        "\n",
        "\n",
        ".\n",
        "2.\n",
        "\n",
        "\n",
        "\n",
        "\n",
        "\n",
        "\n",
        ".idess =yes, 0=no) (= the predicted attribute)ibute"
      ]
    },
    {
      "cell_type": "markdown",
      "id": "b8a185fc-3033-41c9-a076-533c4b8fe1d1",
      "metadata": {
        "id": "b8a185fc-3033-41c9-a076-533c4b8fe1d1"
      },
      "source": [
        "## Preparing the tools\n",
        "\n",
        "We're going to use pandas , matplotlib and NumPy for data analysis manipualtion"
      ]
    },
    {
      "cell_type": "code",
      "execution_count": null,
      "id": "1b8606e3-b39d-404f-96b4-29f253ff0dd3",
      "metadata": {
        "id": "1b8606e3-b39d-404f-96b4-29f253ff0dd3"
      },
      "outputs": [],
      "source": [
        "# Import all the tools we need\n",
        "\n",
        "# Regular EDA (exploratory data analysis) and plotting libraries\n",
        "import numpy as np\n",
        "import pandas as pd\n",
        "import matplotlib.pyplot as plt\n",
        "import seaborn as sns\n",
        "\n",
        "# we want our plots to appear inside the notebook\n",
        "%matplotlib inline\n",
        "\n",
        "# Models from Scikit-Learn\n",
        "from sklearn.linear_model import LogisticRegression\n",
        "from sklearn.neighbors import KNeighborsClassifier\n",
        "from sklearn.ensemble import RandomForestClassifier\n",
        "\n",
        "# Model Evaluations\n",
        "from sklearn.model_selection import train_test_split, cross_val_score\n",
        "from sklearn.model_selection import RandomizedSearchCV, GridSearchCV\n",
        "from sklearn.metrics import confusion_matrix,classification_report,ConfusionMatrixDisplay\n",
        "from sklearn.metrics import precision_score, recall_score,f1_score\n",
        "from sklearn.metrics import RocCurveDisplay"
      ]
    },
    {
      "cell_type": "markdown",
      "id": "5d1db95f-029d-463d-b91a-fe693a6fb3a9",
      "metadata": {
        "id": "5d1db95f-029d-463d-b91a-fe693a6fb3a9"
      },
      "source": [
        "## Load Data"
      ]
    },
    {
      "cell_type": "code",
      "execution_count": null,
      "id": "ac1a2789-ca73-4ceb-b8b7-a604e4cca788",
      "metadata": {
        "id": "ac1a2789-ca73-4ceb-b8b7-a604e4cca788",
        "outputId": "d72ffb7c-80d6-4ca2-85c8-e90a22a22b16"
      },
      "outputs": [
        {
          "data": {
            "text/plain": [
              "(303, 14)"
            ]
          },
          "execution_count": 181,
          "metadata": {},
          "output_type": "execute_result"
        }
      ],
      "source": [
        "df = pd.read_csv(\"heart-disease.csv\")\n",
        "df.shape"
      ]
    },
    {
      "cell_type": "code",
      "execution_count": null,
      "id": "100e79e9-0947-4095-82d4-76f660a01175",
      "metadata": {
        "id": "100e79e9-0947-4095-82d4-76f660a01175"
      },
      "outputs": [],
      "source": []
    },
    {
      "cell_type": "markdown",
      "id": "d25b17b8-121d-480b-a305-460c215e4e65",
      "metadata": {
        "id": "d25b17b8-121d-480b-a305-460c215e4e65"
      },
      "source": [
        "## Data Explorations (exploratory data analysis or EDA)\n",
        "\n",
        "The goal here is to find out more about the data and become a subject matter export matter export on the datasets you're working with.\n",
        "\n",
        "    1. What question(s) are you trying to solve?\n",
        "    2. What kind of data do you have and how do you treat different types?\n",
        "    3. What’s missing from the data and how do you deal with it?\n",
        "    4. Where are the outliers and why should you care about them?\n",
        "    5. How can you add, change or remove features to get more out of your data?\n",
        "\n",
        "\n"
      ]
    },
    {
      "cell_type": "code",
      "execution_count": null,
      "id": "52875beb-91fe-46b5-a997-7e20225b78f2",
      "metadata": {
        "id": "52875beb-91fe-46b5-a997-7e20225b78f2",
        "outputId": "23abc88a-2ae1-4446-eea9-ef90b8707729"
      },
      "outputs": [
        {
          "data": {
            "text/html": [
              "<div>\n",
              "<style scoped>\n",
              "    .dataframe tbody tr th:only-of-type {\n",
              "        vertical-align: middle;\n",
              "    }\n",
              "\n",
              "    .dataframe tbody tr th {\n",
              "        vertical-align: top;\n",
              "    }\n",
              "\n",
              "    .dataframe thead th {\n",
              "        text-align: right;\n",
              "    }\n",
              "</style>\n",
              "<table border=\"1\" class=\"dataframe\">\n",
              "  <thead>\n",
              "    <tr style=\"text-align: right;\">\n",
              "      <th></th>\n",
              "      <th>age</th>\n",
              "      <th>sex</th>\n",
              "      <th>cp</th>\n",
              "      <th>trestbps</th>\n",
              "      <th>chol</th>\n",
              "      <th>fbs</th>\n",
              "      <th>restecg</th>\n",
              "      <th>thalach</th>\n",
              "      <th>exang</th>\n",
              "      <th>oldpeak</th>\n",
              "      <th>slope</th>\n",
              "      <th>ca</th>\n",
              "      <th>thal</th>\n",
              "      <th>target</th>\n",
              "    </tr>\n",
              "  </thead>\n",
              "  <tbody>\n",
              "    <tr>\n",
              "      <th>0</th>\n",
              "      <td>63</td>\n",
              "      <td>1</td>\n",
              "      <td>3</td>\n",
              "      <td>145</td>\n",
              "      <td>233</td>\n",
              "      <td>1</td>\n",
              "      <td>0</td>\n",
              "      <td>150</td>\n",
              "      <td>0</td>\n",
              "      <td>2.3</td>\n",
              "      <td>0</td>\n",
              "      <td>0</td>\n",
              "      <td>1</td>\n",
              "      <td>1</td>\n",
              "    </tr>\n",
              "    <tr>\n",
              "      <th>1</th>\n",
              "      <td>37</td>\n",
              "      <td>1</td>\n",
              "      <td>2</td>\n",
              "      <td>130</td>\n",
              "      <td>250</td>\n",
              "      <td>0</td>\n",
              "      <td>1</td>\n",
              "      <td>187</td>\n",
              "      <td>0</td>\n",
              "      <td>3.5</td>\n",
              "      <td>0</td>\n",
              "      <td>0</td>\n",
              "      <td>2</td>\n",
              "      <td>1</td>\n",
              "    </tr>\n",
              "    <tr>\n",
              "      <th>2</th>\n",
              "      <td>41</td>\n",
              "      <td>0</td>\n",
              "      <td>1</td>\n",
              "      <td>130</td>\n",
              "      <td>204</td>\n",
              "      <td>0</td>\n",
              "      <td>0</td>\n",
              "      <td>172</td>\n",
              "      <td>0</td>\n",
              "      <td>1.4</td>\n",
              "      <td>2</td>\n",
              "      <td>0</td>\n",
              "      <td>2</td>\n",
              "      <td>1</td>\n",
              "    </tr>\n",
              "    <tr>\n",
              "      <th>3</th>\n",
              "      <td>56</td>\n",
              "      <td>1</td>\n",
              "      <td>1</td>\n",
              "      <td>120</td>\n",
              "      <td>236</td>\n",
              "      <td>0</td>\n",
              "      <td>1</td>\n",
              "      <td>178</td>\n",
              "      <td>0</td>\n",
              "      <td>0.8</td>\n",
              "      <td>2</td>\n",
              "      <td>0</td>\n",
              "      <td>2</td>\n",
              "      <td>1</td>\n",
              "    </tr>\n",
              "    <tr>\n",
              "      <th>4</th>\n",
              "      <td>57</td>\n",
              "      <td>0</td>\n",
              "      <td>0</td>\n",
              "      <td>120</td>\n",
              "      <td>354</td>\n",
              "      <td>0</td>\n",
              "      <td>1</td>\n",
              "      <td>163</td>\n",
              "      <td>1</td>\n",
              "      <td>0.6</td>\n",
              "      <td>2</td>\n",
              "      <td>0</td>\n",
              "      <td>2</td>\n",
              "      <td>1</td>\n",
              "    </tr>\n",
              "  </tbody>\n",
              "</table>\n",
              "</div>"
            ],
            "text/plain": [
              "   age  sex  cp  trestbps  chol  fbs  restecg  thalach  exang  oldpeak  slope  \\\n",
              "0   63    1   3       145   233    1        0      150      0      2.3      0   \n",
              "1   37    1   2       130   250    0        1      187      0      3.5      0   \n",
              "2   41    0   1       130   204    0        0      172      0      1.4      2   \n",
              "3   56    1   1       120   236    0        1      178      0      0.8      2   \n",
              "4   57    0   0       120   354    0        1      163      1      0.6      2   \n",
              "\n",
              "   ca  thal  target  \n",
              "0   0     1       1  \n",
              "1   0     2       1  \n",
              "2   0     2       1  \n",
              "3   0     2       1  \n",
              "4   0     2       1  "
            ]
          },
          "execution_count": 119,
          "metadata": {},
          "output_type": "execute_result"
        }
      ],
      "source": [
        "df.head()"
      ]
    },
    {
      "cell_type": "code",
      "execution_count": null,
      "id": "9a224d60-79ac-484a-9f1a-eda1e67640e3",
      "metadata": {
        "id": "9a224d60-79ac-484a-9f1a-eda1e67640e3",
        "outputId": "50d6d5aa-89d1-4886-b0a8-cb1ecc53ecdf"
      },
      "outputs": [
        {
          "data": {
            "text/html": [
              "<div>\n",
              "<style scoped>\n",
              "    .dataframe tbody tr th:only-of-type {\n",
              "        vertical-align: middle;\n",
              "    }\n",
              "\n",
              "    .dataframe tbody tr th {\n",
              "        vertical-align: top;\n",
              "    }\n",
              "\n",
              "    .dataframe thead th {\n",
              "        text-align: right;\n",
              "    }\n",
              "</style>\n",
              "<table border=\"1\" class=\"dataframe\">\n",
              "  <thead>\n",
              "    <tr style=\"text-align: right;\">\n",
              "      <th></th>\n",
              "      <th>age</th>\n",
              "      <th>sex</th>\n",
              "      <th>cp</th>\n",
              "      <th>trestbps</th>\n",
              "      <th>chol</th>\n",
              "      <th>fbs</th>\n",
              "      <th>restecg</th>\n",
              "      <th>thalach</th>\n",
              "      <th>exang</th>\n",
              "      <th>oldpeak</th>\n",
              "      <th>slope</th>\n",
              "      <th>ca</th>\n",
              "      <th>thal</th>\n",
              "      <th>target</th>\n",
              "    </tr>\n",
              "  </thead>\n",
              "  <tbody>\n",
              "    <tr>\n",
              "      <th>298</th>\n",
              "      <td>57</td>\n",
              "      <td>0</td>\n",
              "      <td>0</td>\n",
              "      <td>140</td>\n",
              "      <td>241</td>\n",
              "      <td>0</td>\n",
              "      <td>1</td>\n",
              "      <td>123</td>\n",
              "      <td>1</td>\n",
              "      <td>0.2</td>\n",
              "      <td>1</td>\n",
              "      <td>0</td>\n",
              "      <td>3</td>\n",
              "      <td>0</td>\n",
              "    </tr>\n",
              "    <tr>\n",
              "      <th>299</th>\n",
              "      <td>45</td>\n",
              "      <td>1</td>\n",
              "      <td>3</td>\n",
              "      <td>110</td>\n",
              "      <td>264</td>\n",
              "      <td>0</td>\n",
              "      <td>1</td>\n",
              "      <td>132</td>\n",
              "      <td>0</td>\n",
              "      <td>1.2</td>\n",
              "      <td>1</td>\n",
              "      <td>0</td>\n",
              "      <td>3</td>\n",
              "      <td>0</td>\n",
              "    </tr>\n",
              "    <tr>\n",
              "      <th>300</th>\n",
              "      <td>68</td>\n",
              "      <td>1</td>\n",
              "      <td>0</td>\n",
              "      <td>144</td>\n",
              "      <td>193</td>\n",
              "      <td>1</td>\n",
              "      <td>1</td>\n",
              "      <td>141</td>\n",
              "      <td>0</td>\n",
              "      <td>3.4</td>\n",
              "      <td>1</td>\n",
              "      <td>2</td>\n",
              "      <td>3</td>\n",
              "      <td>0</td>\n",
              "    </tr>\n",
              "    <tr>\n",
              "      <th>301</th>\n",
              "      <td>57</td>\n",
              "      <td>1</td>\n",
              "      <td>0</td>\n",
              "      <td>130</td>\n",
              "      <td>131</td>\n",
              "      <td>0</td>\n",
              "      <td>1</td>\n",
              "      <td>115</td>\n",
              "      <td>1</td>\n",
              "      <td>1.2</td>\n",
              "      <td>1</td>\n",
              "      <td>1</td>\n",
              "      <td>3</td>\n",
              "      <td>0</td>\n",
              "    </tr>\n",
              "    <tr>\n",
              "      <th>302</th>\n",
              "      <td>57</td>\n",
              "      <td>0</td>\n",
              "      <td>1</td>\n",
              "      <td>130</td>\n",
              "      <td>236</td>\n",
              "      <td>0</td>\n",
              "      <td>0</td>\n",
              "      <td>174</td>\n",
              "      <td>0</td>\n",
              "      <td>0.0</td>\n",
              "      <td>1</td>\n",
              "      <td>1</td>\n",
              "      <td>2</td>\n",
              "      <td>0</td>\n",
              "    </tr>\n",
              "  </tbody>\n",
              "</table>\n",
              "</div>"
            ],
            "text/plain": [
              "     age  sex  cp  trestbps  chol  fbs  restecg  thalach  exang  oldpeak  \\\n",
              "298   57    0   0       140   241    0        1      123      1      0.2   \n",
              "299   45    1   3       110   264    0        1      132      0      1.2   \n",
              "300   68    1   0       144   193    1        1      141      0      3.4   \n",
              "301   57    1   0       130   131    0        1      115      1      1.2   \n",
              "302   57    0   1       130   236    0        0      174      0      0.0   \n",
              "\n",
              "     slope  ca  thal  target  \n",
              "298      1   0     3       0  \n",
              "299      1   0     3       0  \n",
              "300      1   2     3       0  \n",
              "301      1   1     3       0  \n",
              "302      1   1     2       0  "
            ]
          },
          "execution_count": 120,
          "metadata": {},
          "output_type": "execute_result"
        }
      ],
      "source": [
        "df.tail()"
      ]
    },
    {
      "cell_type": "code",
      "execution_count": null,
      "id": "95a1c388-a0de-477c-b57d-c195d5ff2870",
      "metadata": {
        "id": "95a1c388-a0de-477c-b57d-c195d5ff2870",
        "outputId": "7a76fe45-f71c-4782-ad7f-4ad972bae228"
      },
      "outputs": [
        {
          "data": {
            "text/plain": [
              "target\n",
              "1    165\n",
              "0    138\n",
              "Name: count, dtype: int64"
            ]
          },
          "execution_count": 121,
          "metadata": {},
          "output_type": "execute_result"
        }
      ],
      "source": [
        "# Let's find out how many of the each class there\n",
        "df[\"target\"].value_counts()"
      ]
    },
    {
      "cell_type": "code",
      "execution_count": null,
      "id": "cfe2ef62-20b1-4dee-844a-be60aa18f9b7",
      "metadata": {
        "id": "cfe2ef62-20b1-4dee-844a-be60aa18f9b7",
        "outputId": "99f3703c-88e3-4529-c42d-e4ea80b9a3d0"
      },
      "outputs": [
        {
          "data": {
            "text/plain": [
              "<Axes: xlabel='target'>"
            ]
          },
          "execution_count": 122,
          "metadata": {},
          "output_type": "execute_result"
        },
        {
          "data": {
            "image/png": "[encoded data removed]",
            "text/plain": [
              "<Figure size 640x480 with 1 Axes>"
            ]
          },
          "metadata": {},
          "output_type": "display_data"
        }
      ],
      "source": [
        "df[\"target\"].value_counts().plot(kind = \"bar\", color=[\"salmon\",\"lightblue\"])"
      ]
    },
    {
      "cell_type": "code",
      "execution_count": null,
      "id": "a6b68db3-6b5e-4eb4-96b4-3cb32d209f15",
      "metadata": {
        "id": "a6b68db3-6b5e-4eb4-96b4-3cb32d209f15",
        "outputId": "4b731c74-3c44-4efd-a5be-a7da4f2bc1f4"
      },
      "outputs": [
        {
          "name": "stdout",
          "output_type": "stream",
          "text": [
            "<class 'pandas.core.frame.DataFrame'>\n",
            "RangeIndex: 303 entries, 0 to 302\n",
            "Data columns (total 14 columns):\n",
            " #   Column    Non-Null Count  Dtype  \n",
            "---  ------    --------------  -----  \n",
            " 0   age       303 non-null    int64  \n",
            " 1   sex       303 non-null    int64  \n",
            " 2   cp        303 non-null    int64  \n",
            " 3   trestbps  303 non-null    int64  \n",
            " 4   chol      303 non-null    int64  \n",
            " 5   fbs       303 non-null    int64  \n",
            " 6   restecg   303 non-null    int64  \n",
            " 7   thalach   303 non-null    int64  \n",
            " 8   exang     303 non-null    int64  \n",
            " 9   oldpeak   303 non-null    float64\n",
            " 10  slope     303 non-null    int64  \n",
            " 11  ca        303 non-null    int64  \n",
            " 12  thal      303 non-null    int64  \n",
            " 13  target    303 non-null    int64  \n",
            "dtypes: float64(1), int64(13)\n",
            "memory usage: 33.3 KB\n"
          ]
        }
      ],
      "source": [
        "df.info()"
      ]
    },
    {
      "cell_type": "code",
      "execution_count": null,
      "id": "2c453d4d-97ec-4d54-83de-de58f8f52212",
      "metadata": {
        "id": "2c453d4d-97ec-4d54-83de-de58f8f52212",
        "outputId": "80daacf3-f124-4fd9-d25e-25f0111be47c"
      },
      "outputs": [
        {
          "data": {
            "text/plain": [
              "age         0\n",
              "sex         0\n",
              "cp          0\n",
              "trestbps    0\n",
              "chol        0\n",
              "fbs         0\n",
              "restecg     0\n",
              "thalach     0\n",
              "exang       0\n",
              "oldpeak     0\n",
              "slope       0\n",
              "ca          0\n",
              "thal        0\n",
              "target      0\n",
              "dtype: int64"
            ]
          },
          "execution_count": 124,
          "metadata": {},
          "output_type": "execute_result"
        }
      ],
      "source": [
        "\n",
        "# Are there any missing value\n",
        "df.isna().sum()"
      ]
    },
    {
      "cell_type": "code",
      "execution_count": null,
      "id": "6f44f3ac-0b0c-4696-acbc-e3ae0e72a132",
      "metadata": {
        "id": "6f44f3ac-0b0c-4696-acbc-e3ae0e72a132",
        "outputId": "e1b559fd-6bd2-4c7a-ca7b-a644fd29cadf"
      },
      "outputs": [
        {
          "data": {
            "text/html": [
              "<div>\n",
              "<style scoped>\n",
              "    .dataframe tbody tr th:only-of-type {\n",
              "        vertical-align: middle;\n",
              "    }\n",
              "\n",
              "    .dataframe tbody tr th {\n",
              "        vertical-align: top;\n",
              "    }\n",
              "\n",
              "    .dataframe thead th {\n",
              "        text-align: right;\n",
              "    }\n",
              "</style>\n",
              "<table border=\"1\" class=\"dataframe\">\n",
              "  <thead>\n",
              "    <tr style=\"text-align: right;\">\n",
              "      <th></th>\n",
              "      <th>age</th>\n",
              "      <th>sex</th>\n",
              "      <th>cp</th>\n",
              "      <th>trestbps</th>\n",
              "      <th>chol</th>\n",
              "      <th>fbs</th>\n",
              "      <th>restecg</th>\n",
              "      <th>thalach</th>\n",
              "      <th>exang</th>\n",
              "      <th>oldpeak</th>\n",
              "      <th>slope</th>\n",
              "      <th>ca</th>\n",
              "      <th>thal</th>\n",
              "      <th>target</th>\n",
              "    </tr>\n",
              "  </thead>\n",
              "  <tbody>\n",
              "    <tr>\n",
              "      <th>count</th>\n",
              "      <td>303.000000</td>\n",
              "      <td>303.000000</td>\n",
              "      <td>303.000000</td>\n",
              "      <td>303.000000</td>\n",
              "      <td>303.000000</td>\n",
              "      <td>303.000000</td>\n",
              "      <td>303.000000</td>\n",
              "      <td>303.000000</td>\n",
              "      <td>303.000000</td>\n",
              "      <td>303.000000</td>\n",
              "      <td>303.000000</td>\n",
              "      <td>303.000000</td>\n",
              "      <td>303.000000</td>\n",
              "      <td>303.000000</td>\n",
              "    </tr>\n",
              "    <tr>\n",
              "      <th>mean</th>\n",
              "      <td>54.366337</td>\n",
              "      <td>0.683168</td>\n",
              "      <td>0.966997</td>\n",
              "      <td>131.623762</td>\n",
              "      <td>246.264026</td>\n",
              "      <td>0.148515</td>\n",
              "      <td>0.528053</td>\n",
              "      <td>149.646865</td>\n",
              "      <td>0.326733</td>\n",
              "      <td>1.039604</td>\n",
              "      <td>1.399340</td>\n",
              "      <td>0.729373</td>\n",
              "      <td>2.313531</td>\n",
              "      <td>0.544554</td>\n",
              "    </tr>\n",
              "    <tr>\n",
              "      <th>std</th>\n",
              "      <td>9.082101</td>\n",
              "      <td>0.466011</td>\n",
              "      <td>1.032052</td>\n",
              "      <td>17.538143</td>\n",
              "      <td>51.830751</td>\n",
              "      <td>0.356198</td>\n",
              "      <td>0.525860</td>\n",
              "      <td>22.905161</td>\n",
              "      <td>0.469794</td>\n",
              "      <td>1.161075</td>\n",
              "      <td>0.616226</td>\n",
              "      <td>1.022606</td>\n",
              "      <td>0.612277</td>\n",
              "      <td>0.498835</td>\n",
              "    </tr>\n",
              "    <tr>\n",
              "      <th>min</th>\n",
              "      <td>29.000000</td>\n",
              "      <td>0.000000</td>\n",
              "      <td>0.000000</td>\n",
              "      <td>94.000000</td>\n",
              "      <td>126.000000</td>\n",
              "      <td>0.000000</td>\n",
              "      <td>0.000000</td>\n",
              "      <td>71.000000</td>\n",
              "      <td>0.000000</td>\n",
              "      <td>0.000000</td>\n",
              "      <td>0.000000</td>\n",
              "      <td>0.000000</td>\n",
              "      <td>0.000000</td>\n",
              "      <td>0.000000</td>\n",
              "    </tr>\n",
              "    <tr>\n",
              "      <th>25%</th>\n",
              "      <td>47.500000</td>\n",
              "      <td>0.000000</td>\n",
              "      <td>0.000000</td>\n",
              "      <td>120.000000</td>\n",
              "      <td>211.000000</td>\n",
              "      <td>0.000000</td>\n",
              "      <td>0.000000</td>\n",
              "      <td>133.500000</td>\n",
              "      <td>0.000000</td>\n",
              "      <td>0.000000</td>\n",
              "      <td>1.000000</td>\n",
              "      <td>0.000000</td>\n",
              "      <td>2.000000</td>\n",
              "      <td>0.000000</td>\n",
              "    </tr>\n",
              "    <tr>\n",
              "      <th>50%</th>\n",
              "      <td>55.000000</td>\n",
              "      <td>1.000000</td>\n",
              "      <td>1.000000</td>\n",
              "      <td>130.000000</td>\n",
              "      <td>240.000000</td>\n",
              "      <td>0.000000</td>\n",
              "      <td>1.000000</td>\n",
              "      <td>153.000000</td>\n",
              "      <td>0.000000</td>\n",
              "      <td>0.800000</td>\n",
              "      <td>1.000000</td>\n",
              "      <td>0.000000</td>\n",
              "      <td>2.000000</td>\n",
              "      <td>1.000000</td>\n",
              "    </tr>\n",
              "    <tr>\n",
              "      <th>75%</th>\n",
              "      <td>61.000000</td>\n",
              "      <td>1.000000</td>\n",
              "      <td>2.000000</td>\n",
              "      <td>140.000000</td>\n",
              "      <td>274.500000</td>\n",
              "      <td>0.000000</td>\n",
              "      <td>1.000000</td>\n",
              "      <td>166.000000</td>\n",
              "      <td>1.000000</td>\n",
              "      <td>1.600000</td>\n",
              "      <td>2.000000</td>\n",
              "      <td>1.000000</td>\n",
              "      <td>3.000000</td>\n",
              "      <td>1.000000</td>\n",
              "    </tr>\n",
              "    <tr>\n",
              "      <th>max</th>\n",
              "      <td>77.000000</td>\n",
              "      <td>1.000000</td>\n",
              "      <td>3.000000</td>\n",
              "      <td>200.000000</td>\n",
              "      <td>564.000000</td>\n",
              "      <td>1.000000</td>\n",
              "      <td>2.000000</td>\n",
              "      <td>202.000000</td>\n",
              "      <td>1.000000</td>\n",
              "      <td>6.200000</td>\n",
              "      <td>2.000000</td>\n",
              "      <td>4.000000</td>\n",
              "      <td>3.000000</td>\n",
              "      <td>1.000000</td>\n",
              "    </tr>\n",
              "  </tbody>\n",
              "</table>\n",
              "</div>"
            ],
            "text/plain": [
              "              age         sex          cp    trestbps        chol         fbs  \\\n",
              "count  303.000000  303.000000  303.000000  303.000000  303.000000  303.000000   \n",
              "mean    54.366337    0.683168    0.966997  131.623762  246.264026    0.148515   \n",
              "std      9.082101    0.466011    1.032052   17.538143   51.830751    0.356198   \n",
              "min     29.000000    0.000000    0.000000   94.000000  126.000000    0.000000   \n",
              "25%     47.500000    0.000000    0.000000  120.000000  211.000000    0.000000   \n",
              "50%     55.000000    1.000000    1.000000  130.000000  240.000000    0.000000   \n",
              "75%     61.000000    1.000000    2.000000  140.000000  274.500000    0.000000   \n",
              "max     77.000000    1.000000    3.000000  200.000000  564.000000    1.000000   \n",
              "\n",
              "          restecg     thalach       exang     oldpeak       slope          ca  \\\n",
              "count  303.000000  303.000000  303.000000  303.000000  303.000000  303.000000   \n",
              "mean     0.528053  149.646865    0.326733    1.039604    1.399340    0.729373   \n",
              "std      0.525860   22.905161    0.469794    1.161075    0.616226    1.022606   \n",
              "min      0.000000   71.000000    0.000000    0.000000    0.000000    0.000000   \n",
              "25%      0.000000  133.500000    0.000000    0.000000    1.000000    0.000000   \n",
              "50%      1.000000  153.000000    0.000000    0.800000    1.000000    0.000000   \n",
              "75%      1.000000  166.000000    1.000000    1.600000    2.000000    1.000000   \n",
              "max      2.000000  202.000000    1.000000    6.200000    2.000000    4.000000   \n",
              "\n",
              "             thal      target  \n",
              "count  303.000000  303.000000  \n",
              "mean     2.313531    0.544554  \n",
              "std      0.612277    0.498835  \n",
              "min      0.000000    0.000000  \n",
              "25%      2.000000    0.000000  \n",
              "50%      2.000000    1.000000  \n",
              "75%      3.000000    1.000000  \n",
              "max      3.000000    1.000000  "
            ]
          },
          "execution_count": 125,
          "metadata": {},
          "output_type": "execute_result"
        }
      ],
      "source": [
        "df.describe()"
      ]
    },
    {
      "cell_type": "markdown",
      "id": "b4b3511a-00fb-419c-bd0e-21146fc0d3ea",
      "metadata": {
        "id": "b4b3511a-00fb-419c-bd0e-21146fc0d3ea"
      },
      "source": [
        "### Heart Disease Frequency according to Sex"
      ]
    },
    {
      "cell_type": "code",
      "execution_count": null,
      "id": "e2d6c19d-8dba-4664-af71-35c21688925d",
      "metadata": {
        "id": "e2d6c19d-8dba-4664-af71-35c21688925d",
        "outputId": "6f2253df-2642-4634-de85-b277941101d3"
      },
      "outputs": [
        {
          "data": {
            "text/plain": [
              "sex\n",
              "1    207\n",
              "0     96\n",
              "Name: count, dtype: int64"
            ]
          },
          "execution_count": 126,
          "metadata": {},
          "output_type": "execute_result"
        }
      ],
      "source": [
        "df.sex.value_counts()"
      ]
    },
    {
      "cell_type": "code",
      "execution_count": null,
      "id": "590c11c1-4d78-4e11-8bd7-9c261d8d480a",
      "metadata": {
        "id": "590c11c1-4d78-4e11-8bd7-9c261d8d480a",
        "outputId": "caa57cde-f84c-47b1-8da7-9a776a599cbd"
      },
      "outputs": [
        {
          "data": {
            "text/html": [
              "<div>\n",
              "<style scoped>\n",
              "    .dataframe tbody tr th:only-of-type {\n",
              "        vertical-align: middle;\n",
              "    }\n",
              "\n",
              "    .dataframe tbody tr th {\n",
              "        vertical-align: top;\n",
              "    }\n",
              "\n",
              "    .dataframe thead th {\n",
              "        text-align: right;\n",
              "    }\n",
              "</style>\n",
              "<table border=\"1\" class=\"dataframe\">\n",
              "  <thead>\n",
              "    <tr style=\"text-align: right;\">\n",
              "      <th>sex</th>\n",
              "      <th>0</th>\n",
              "      <th>1</th>\n",
              "    </tr>\n",
              "    <tr>\n",
              "      <th>target</th>\n",
              "      <th></th>\n",
              "      <th></th>\n",
              "    </tr>\n",
              "  </thead>\n",
              "  <tbody>\n",
              "    <tr>\n",
              "      <th>0</th>\n",
              "      <td>24</td>\n",
              "      <td>114</td>\n",
              "    </tr>\n",
              "    <tr>\n",
              "      <th>1</th>\n",
              "      <td>72</td>\n",
              "      <td>93</td>\n",
              "    </tr>\n",
              "  </tbody>\n",
              "</table>\n",
              "</div>"
            ],
            "text/plain": [
              "sex      0    1\n",
              "target         \n",
              "0       24  114\n",
              "1       72   93"
            ]
          },
          "execution_count": 127,
          "metadata": {},
          "output_type": "execute_result"
        }
      ],
      "source": [
        "# Compare target column with sex column\n",
        "pd.crosstab(df.target,df.sex)"
      ]
    },
    {
      "cell_type": "code",
      "execution_count": null,
      "id": "70e5364a-8a9a-435d-a206-a4329cd58ba0",
      "metadata": {
        "id": "70e5364a-8a9a-435d-a206-a4329cd58ba0",
        "outputId": "a2a897fd-3590-4a7b-84c0-38cfc31a66c4"
      },
      "outputs": [
        {
          "data": {
            "image/png": "[encoded data removed]",
            "text/plain": [
              "<Figure size 1000x600 with 1 Axes>"
            ]
          },
          "metadata": {},
          "output_type": "display_data"
        }
      ],
      "source": [
        "# Create a plot of crosstab\n",
        "pd.crosstab(df.target,df.sex).plot(kind=\"bar\",\n",
        "                                   figsize=(10,6),\n",
        "                                   color=[\"salmon\",\"lightblue\"])\n",
        "plt.title(\"Heart Disease Frequency for Sex\")\n",
        "plt.xlabel(\"0 = No Disease, 1 = Disease\")\n",
        "plt.ylabel(\"Amount\")\n",
        "plt.legend([\"Female\",\"Male\"])\n",
        "plt.xticks(rotation=0);"
      ]
    },
    {
      "cell_type": "markdown",
      "id": "e4df34ec-8e1e-4b76-9bf2-062b3588c842",
      "metadata": {
        "id": "e4df34ec-8e1e-4b76-9bf2-062b3588c842"
      },
      "source": [
        "### Age vs. Max Heart Rate for heart Disease"
      ]
    },
    {
      "cell_type": "code",
      "execution_count": null,
      "id": "a5bed8a3-6170-4a69-b324-602fcf19b255",
      "metadata": {
        "id": "a5bed8a3-6170-4a69-b324-602fcf19b255",
        "outputId": "c9e2ce79-652c-4d3d-ccde-daeb5c5efe11"
      },
      "outputs": [
        {
          "data": {
            "text/plain": [
              "<matplotlib.legend.Legend at 0x212fef237a0>"
            ]
          },
          "execution_count": 129,
          "metadata": {},
          "output_type": "execute_result"
        },
        {
          "data": {
            "image/png": "[encoded data removed]",
            "text/plain": [
              "<Figure size 1000x600 with 1 Axes>"
            ]
          },
          "metadata": {},
          "output_type": "display_data"
        }
      ],
      "source": [
        "# Create another figure\n",
        "plt.figure(figsize=(10,6))\n",
        "\n",
        "# scatter with positive examples\n",
        "plt.scatter(df.age[df.target==1],\n",
        "            df.thalach[df.target==1],\n",
        "            c=\"salmon\")\n",
        "# Scatter with negative examples\n",
        "plt.scatter(df.age[df.target==0],\n",
        "           df.thalach[df.target==0],\n",
        "           c=\"lightblue\")\n",
        "# Add some helpful info\n",
        "plt.title(\"heart Disease in function of Age and Max Heart Rate\")\n",
        "plt.xlabel(\"Age\")\n",
        "plt.ylabel(\"Max Heart Rate\")\n",
        "plt.legend([\"Disease\",\"No Disease\"])"
      ]
    },
    {
      "cell_type": "code",
      "execution_count": null,
      "id": "3555b639-18e4-48b9-af22-d69a830c1755",
      "metadata": {
        "id": "3555b639-18e4-48b9-af22-d69a830c1755",
        "outputId": "341e90ac-f8f8-4cc2-cedb-866f0d584ef1"
      },
      "outputs": [
        {
          "data": {
            "image/png": "[encoded data removed]",
            "text/plain": [
              "<Figure size 640x480 with 1 Axes>"
            ]
          },
          "metadata": {},
          "output_type": "display_data"
        }
      ],
      "source": [
        "# Check the distribution of the age column with a histogram\n",
        "df.age.plot.hist();"
      ]
    },
    {
      "cell_type": "markdown",
      "id": "ea1fe802-6ca9-4090-856a-70fa02ffc31d",
      "metadata": {
        "id": "ea1fe802-6ca9-4090-856a-70fa02ffc31d"
      },
      "source": [
        "### Heart Disease Frequency per Chest Pain Type"
      ]
    },
    {
      "cell_type": "markdown",
      "id": "619ae023-ead5-4683-8d73-22dffe983068",
      "metadata": {
        "id": "619ae023-ead5-4683-8d73-22dffe983068"
      },
      "source": [
        "3. cp-chest pain type\n",
        "    * 0: Typical angina: chest pain related decrease blood supply to the heart\n",
        "    * 1: Atypical angina: chest pain not related to heart\n",
        "    * 2: Non-anginal pain: typically esophageal spasms (non heart related)\n",
        "    * 3: Asymptomatic: chest pain not showing signs of disease"
      ]
    },
    {
      "cell_type": "code",
      "execution_count": null,
      "id": "cf3149b2-0015-48aa-b89b-b1b86b8b54df",
      "metadata": {
        "id": "cf3149b2-0015-48aa-b89b-b1b86b8b54df",
        "outputId": "63f976d0-bf13-48d8-a826-e41c80ea5196"
      },
      "outputs": [
        {
          "data": {
            "text/html": [
              "<div>\n",
              "<style scoped>\n",
              "    .dataframe tbody tr th:only-of-type {\n",
              "        vertical-align: middle;\n",
              "    }\n",
              "\n",
              "    .dataframe tbody tr th {\n",
              "        vertical-align: top;\n",
              "    }\n",
              "\n",
              "    .dataframe thead th {\n",
              "        text-align: right;\n",
              "    }\n",
              "</style>\n",
              "<table border=\"1\" class=\"dataframe\">\n",
              "  <thead>\n",
              "    <tr style=\"text-align: right;\">\n",
              "      <th>target</th>\n",
              "      <th>0</th>\n",
              "      <th>1</th>\n",
              "    </tr>\n",
              "    <tr>\n",
              "      <th>cp</th>\n",
              "      <th></th>\n",
              "      <th></th>\n",
              "    </tr>\n",
              "  </thead>\n",
              "  <tbody>\n",
              "    <tr>\n",
              "      <th>0</th>\n",
              "      <td>104</td>\n",
              "      <td>39</td>\n",
              "    </tr>\n",
              "    <tr>\n",
              "      <th>1</th>\n",
              "      <td>9</td>\n",
              "      <td>41</td>\n",
              "    </tr>\n",
              "    <tr>\n",
              "      <th>2</th>\n",
              "      <td>18</td>\n",
              "      <td>69</td>\n",
              "    </tr>\n",
              "    <tr>\n",
              "      <th>3</th>\n",
              "      <td>7</td>\n",
              "      <td>16</td>\n",
              "    </tr>\n",
              "  </tbody>\n",
              "</table>\n",
              "</div>"
            ],
            "text/plain": [
              "target    0   1\n",
              "cp             \n",
              "0       104  39\n",
              "1         9  41\n",
              "2        18  69\n",
              "3         7  16"
            ]
          },
          "execution_count": 131,
          "metadata": {},
          "output_type": "execute_result"
        }
      ],
      "source": [
        "\n",
        "pd.crosstab(df.cp,df.target)"
      ]
    },
    {
      "cell_type": "code",
      "execution_count": null,
      "id": "044aad78-4048-4b46-b683-c76b535568a6",
      "metadata": {
        "id": "044aad78-4048-4b46-b683-c76b535568a6",
        "outputId": "a892b6b4-06ac-4231-c576-3b507383d65a"
      },
      "outputs": [
        {
          "data": {
            "image/png": "[encoded data removed]",
            "text/plain": [
              "<Figure size 1000x600 with 1 Axes>"
            ]
          },
          "metadata": {},
          "output_type": "display_data"
        }
      ],
      "source": [
        "# Make the crosstab more visual\n",
        "pd.crosstab(df.cp,df.target).plot(kind=\"bar\",\n",
        "                                 figsize=(10,6),\n",
        "                                 color=[\"salmon\",\"lightblue\"])\n",
        "plt.title(\"Heart Disease Frequency per Chest Pain Type\")\n",
        "plt.xlabel(\"Chest Pain Type\")\n",
        "plt.ylabel(\"Amount\")\n",
        "plt.legend([\"No Disease\",\"Disease\"])\n",
        "plt.xticks(rotation=0);\n"
      ]
    },
    {
      "cell_type": "code",
      "execution_count": null,
      "id": "76d048ab-9c9f-4feb-8e01-281da83605b7",
      "metadata": {
        "id": "76d048ab-9c9f-4feb-8e01-281da83605b7",
        "outputId": "8f240abc-1e39-4465-b42b-8a018803b18c"
      },
      "outputs": [
        {
          "data": {
            "text/html": [
              "<div>\n",
              "<style scoped>\n",
              "    .dataframe tbody tr th:only-of-type {\n",
              "        vertical-align: middle;\n",
              "    }\n",
              "\n",
              "    .dataframe tbody tr th {\n",
              "        vertical-align: top;\n",
              "    }\n",
              "\n",
              "    .dataframe thead th {\n",
              "        text-align: right;\n",
              "    }\n",
              "</style>\n",
              "<table border=\"1\" class=\"dataframe\">\n",
              "  <thead>\n",
              "    <tr style=\"text-align: right;\">\n",
              "      <th></th>\n",
              "      <th>age</th>\n",
              "      <th>sex</th>\n",
              "      <th>cp</th>\n",
              "      <th>trestbps</th>\n",
              "      <th>chol</th>\n",
              "      <th>fbs</th>\n",
              "      <th>restecg</th>\n",
              "      <th>thalach</th>\n",
              "      <th>exang</th>\n",
              "      <th>oldpeak</th>\n",
              "      <th>slope</th>\n",
              "      <th>ca</th>\n",
              "      <th>thal</th>\n",
              "      <th>target</th>\n",
              "    </tr>\n",
              "  </thead>\n",
              "  <tbody>\n",
              "    <tr>\n",
              "      <th>0</th>\n",
              "      <td>63</td>\n",
              "      <td>1</td>\n",
              "      <td>3</td>\n",
              "      <td>145</td>\n",
              "      <td>233</td>\n",
              "      <td>1</td>\n",
              "      <td>0</td>\n",
              "      <td>150</td>\n",
              "      <td>0</td>\n",
              "      <td>2.3</td>\n",
              "      <td>0</td>\n",
              "      <td>0</td>\n",
              "      <td>1</td>\n",
              "      <td>1</td>\n",
              "    </tr>\n",
              "    <tr>\n",
              "      <th>1</th>\n",
              "      <td>37</td>\n",
              "      <td>1</td>\n",
              "      <td>2</td>\n",
              "      <td>130</td>\n",
              "      <td>250</td>\n",
              "      <td>0</td>\n",
              "      <td>1</td>\n",
              "      <td>187</td>\n",
              "      <td>0</td>\n",
              "      <td>3.5</td>\n",
              "      <td>0</td>\n",
              "      <td>0</td>\n",
              "      <td>2</td>\n",
              "      <td>1</td>\n",
              "    </tr>\n",
              "    <tr>\n",
              "      <th>2</th>\n",
              "      <td>41</td>\n",
              "      <td>0</td>\n",
              "      <td>1</td>\n",
              "      <td>130</td>\n",
              "      <td>204</td>\n",
              "      <td>0</td>\n",
              "      <td>0</td>\n",
              "      <td>172</td>\n",
              "      <td>0</td>\n",
              "      <td>1.4</td>\n",
              "      <td>2</td>\n",
              "      <td>0</td>\n",
              "      <td>2</td>\n",
              "      <td>1</td>\n",
              "    </tr>\n",
              "    <tr>\n",
              "      <th>3</th>\n",
              "      <td>56</td>\n",
              "      <td>1</td>\n",
              "      <td>1</td>\n",
              "      <td>120</td>\n",
              "      <td>236</td>\n",
              "      <td>0</td>\n",
              "      <td>1</td>\n",
              "      <td>178</td>\n",
              "      <td>0</td>\n",
              "      <td>0.8</td>\n",
              "      <td>2</td>\n",
              "      <td>0</td>\n",
              "      <td>2</td>\n",
              "      <td>1</td>\n",
              "    </tr>\n",
              "    <tr>\n",
              "      <th>4</th>\n",
              "      <td>57</td>\n",
              "      <td>0</td>\n",
              "      <td>0</td>\n",
              "      <td>120</td>\n",
              "      <td>354</td>\n",
              "      <td>0</td>\n",
              "      <td>1</td>\n",
              "      <td>163</td>\n",
              "      <td>1</td>\n",
              "      <td>0.6</td>\n",
              "      <td>2</td>\n",
              "      <td>0</td>\n",
              "      <td>2</td>\n",
              "      <td>1</td>\n",
              "    </tr>\n",
              "  </tbody>\n",
              "</table>\n",
              "</div>"
            ],
            "text/plain": [
              "   age  sex  cp  trestbps  chol  fbs  restecg  thalach  exang  oldpeak  slope  \\\n",
              "0   63    1   3       145   233    1        0      150      0      2.3      0   \n",
              "1   37    1   2       130   250    0        1      187      0      3.5      0   \n",
              "2   41    0   1       130   204    0        0      172      0      1.4      2   \n",
              "3   56    1   1       120   236    0        1      178      0      0.8      2   \n",
              "4   57    0   0       120   354    0        1      163      1      0.6      2   \n",
              "\n",
              "   ca  thal  target  \n",
              "0   0     1       1  \n",
              "1   0     2       1  \n",
              "2   0     2       1  \n",
              "3   0     2       1  \n",
              "4   0     2       1  "
            ]
          },
          "execution_count": 133,
          "metadata": {},
          "output_type": "execute_result"
        }
      ],
      "source": [
        "df.head()"
      ]
    },
    {
      "cell_type": "code",
      "execution_count": null,
      "id": "7305a263-3064-41be-8c8f-0f91501f525a",
      "metadata": {
        "id": "7305a263-3064-41be-8c8f-0f91501f525a",
        "outputId": "3c42cce7-9d79-4e7f-854c-a03082446f3f"
      },
      "outputs": [
        {
          "data": {
            "text/html": [
              "<div>\n",
              "<style scoped>\n",
              "    .dataframe tbody tr th:only-of-type {\n",
              "        vertical-align: middle;\n",
              "    }\n",
              "\n",
              "    .dataframe tbody tr th {\n",
              "        vertical-align: top;\n",
              "    }\n",
              "\n",
              "    .dataframe thead th {\n",
              "        text-align: right;\n",
              "    }\n",
              "</style>\n",
              "<table border=\"1\" class=\"dataframe\">\n",
              "  <thead>\n",
              "    <tr style=\"text-align: right;\">\n",
              "      <th></th>\n",
              "      <th>age</th>\n",
              "      <th>sex</th>\n",
              "      <th>cp</th>\n",
              "      <th>trestbps</th>\n",
              "      <th>chol</th>\n",
              "      <th>fbs</th>\n",
              "      <th>restecg</th>\n",
              "      <th>thalach</th>\n",
              "      <th>exang</th>\n",
              "      <th>oldpeak</th>\n",
              "      <th>slope</th>\n",
              "      <th>ca</th>\n",
              "      <th>thal</th>\n",
              "      <th>target</th>\n",
              "    </tr>\n",
              "  </thead>\n",
              "  <tbody>\n",
              "    <tr>\n",
              "      <th>age</th>\n",
              "      <td>1.000000</td>\n",
              "      <td>-0.098447</td>\n",
              "      <td>-0.068653</td>\n",
              "      <td>0.279351</td>\n",
              "      <td>0.213678</td>\n",
              "      <td>0.121308</td>\n",
              "      <td>-0.116211</td>\n",
              "      <td>-0.398522</td>\n",
              "      <td>0.096801</td>\n",
              "      <td>0.210013</td>\n",
              "      <td>-0.168814</td>\n",
              "      <td>0.276326</td>\n",
              "      <td>0.068001</td>\n",
              "      <td>-0.225439</td>\n",
              "    </tr>\n",
              "    <tr>\n",
              "      <th>sex</th>\n",
              "      <td>-0.098447</td>\n",
              "      <td>1.000000</td>\n",
              "      <td>-0.049353</td>\n",
              "      <td>-0.056769</td>\n",
              "      <td>-0.197912</td>\n",
              "      <td>0.045032</td>\n",
              "      <td>-0.058196</td>\n",
              "      <td>-0.044020</td>\n",
              "      <td>0.141664</td>\n",
              "      <td>0.096093</td>\n",
              "      <td>-0.030711</td>\n",
              "      <td>0.118261</td>\n",
              "      <td>0.210041</td>\n",
              "      <td>-0.280937</td>\n",
              "    </tr>\n",
              "    <tr>\n",
              "      <th>cp</th>\n",
              "      <td>-0.068653</td>\n",
              "      <td>-0.049353</td>\n",
              "      <td>1.000000</td>\n",
              "      <td>0.047608</td>\n",
              "      <td>-0.076904</td>\n",
              "      <td>0.094444</td>\n",
              "      <td>0.044421</td>\n",
              "      <td>0.295762</td>\n",
              "      <td>-0.394280</td>\n",
              "      <td>-0.149230</td>\n",
              "      <td>0.119717</td>\n",
              "      <td>-0.181053</td>\n",
              "      <td>-0.161736</td>\n",
              "      <td>0.433798</td>\n",
              "    </tr>\n",
              "    <tr>\n",
              "      <th>trestbps</th>\n",
              "      <td>0.279351</td>\n",
              "      <td>-0.056769</td>\n",
              "      <td>0.047608</td>\n",
              "      <td>1.000000</td>\n",
              "      <td>0.123174</td>\n",
              "      <td>0.177531</td>\n",
              "      <td>-0.114103</td>\n",
              "      <td>-0.046698</td>\n",
              "      <td>0.067616</td>\n",
              "      <td>0.193216</td>\n",
              "      <td>-0.121475</td>\n",
              "      <td>0.101389</td>\n",
              "      <td>0.062210</td>\n",
              "      <td>-0.144931</td>\n",
              "    </tr>\n",
              "    <tr>\n",
              "      <th>chol</th>\n",
              "      <td>0.213678</td>\n",
              "      <td>-0.197912</td>\n",
              "      <td>-0.076904</td>\n",
              "      <td>0.123174</td>\n",
              "      <td>1.000000</td>\n",
              "      <td>0.013294</td>\n",
              "      <td>-0.151040</td>\n",
              "      <td>-0.009940</td>\n",
              "      <td>0.067023</td>\n",
              "      <td>0.053952</td>\n",
              "      <td>-0.004038</td>\n",
              "      <td>0.070511</td>\n",
              "      <td>0.098803</td>\n",
              "      <td>-0.085239</td>\n",
              "    </tr>\n",
              "    <tr>\n",
              "      <th>fbs</th>\n",
              "      <td>0.121308</td>\n",
              "      <td>0.045032</td>\n",
              "      <td>0.094444</td>\n",
              "      <td>0.177531</td>\n",
              "      <td>0.013294</td>\n",
              "      <td>1.000000</td>\n",
              "      <td>-0.084189</td>\n",
              "      <td>-0.008567</td>\n",
              "      <td>0.025665</td>\n",
              "      <td>0.005747</td>\n",
              "      <td>-0.059894</td>\n",
              "      <td>0.137979</td>\n",
              "      <td>-0.032019</td>\n",
              "      <td>-0.028046</td>\n",
              "    </tr>\n",
              "    <tr>\n",
              "      <th>restecg</th>\n",
              "      <td>-0.116211</td>\n",
              "      <td>-0.058196</td>\n",
              "      <td>0.044421</td>\n",
              "      <td>-0.114103</td>\n",
              "      <td>-0.151040</td>\n",
              "      <td>-0.084189</td>\n",
              "      <td>1.000000</td>\n",
              "      <td>0.044123</td>\n",
              "      <td>-0.070733</td>\n",
              "      <td>-0.058770</td>\n",
              "      <td>0.093045</td>\n",
              "      <td>-0.072042</td>\n",
              "      <td>-0.011981</td>\n",
              "      <td>0.137230</td>\n",
              "    </tr>\n",
              "    <tr>\n",
              "      <th>thalach</th>\n",
              "      <td>-0.398522</td>\n",
              "      <td>-0.044020</td>\n",
              "      <td>0.295762</td>\n",
              "      <td>-0.046698</td>\n",
              "      <td>-0.009940</td>\n",
              "      <td>-0.008567</td>\n",
              "      <td>0.044123</td>\n",
              "      <td>1.000000</td>\n",
              "      <td>-0.378812</td>\n",
              "      <td>-0.344187</td>\n",
              "      <td>0.386784</td>\n",
              "      <td>-0.213177</td>\n",
              "      <td>-0.096439</td>\n",
              "      <td>0.421741</td>\n",
              "    </tr>\n",
              "    <tr>\n",
              "      <th>exang</th>\n",
              "      <td>0.096801</td>\n",
              "      <td>0.141664</td>\n",
              "      <td>-0.394280</td>\n",
              "      <td>0.067616</td>\n",
              "      <td>0.067023</td>\n",
              "      <td>0.025665</td>\n",
              "      <td>-0.070733</td>\n",
              "      <td>-0.378812</td>\n",
              "      <td>1.000000</td>\n",
              "      <td>0.288223</td>\n",
              "      <td>-0.257748</td>\n",
              "      <td>0.115739</td>\n",
              "      <td>0.206754</td>\n",
              "      <td>-0.436757</td>\n",
              "    </tr>\n",
              "    <tr>\n",
              "      <th>oldpeak</th>\n",
              "      <td>0.210013</td>\n",
              "      <td>0.096093</td>\n",
              "      <td>-0.149230</td>\n",
              "      <td>0.193216</td>\n",
              "      <td>0.053952</td>\n",
              "      <td>0.005747</td>\n",
              "      <td>-0.058770</td>\n",
              "      <td>-0.344187</td>\n",
              "      <td>0.288223</td>\n",
              "      <td>1.000000</td>\n",
              "      <td>-0.577537</td>\n",
              "      <td>0.222682</td>\n",
              "      <td>0.210244</td>\n",
              "      <td>-0.430696</td>\n",
              "    </tr>\n",
              "    <tr>\n",
              "      <th>slope</th>\n",
              "      <td>-0.168814</td>\n",
              "      <td>-0.030711</td>\n",
              "      <td>0.119717</td>\n",
              "      <td>-0.121475</td>\n",
              "      <td>-0.004038</td>\n",
              "      <td>-0.059894</td>\n",
              "      <td>0.093045</td>\n",
              "      <td>0.386784</td>\n",
              "      <td>-0.257748</td>\n",
              "      <td>-0.577537</td>\n",
              "      <td>1.000000</td>\n",
              "      <td>-0.080155</td>\n",
              "      <td>-0.104764</td>\n",
              "      <td>0.345877</td>\n",
              "    </tr>\n",
              "    <tr>\n",
              "      <th>ca</th>\n",
              "      <td>0.276326</td>\n",
              "      <td>0.118261</td>\n",
              "      <td>-0.181053</td>\n",
              "      <td>0.101389</td>\n",
              "      <td>0.070511</td>\n",
              "      <td>0.137979</td>\n",
              "      <td>-0.072042</td>\n",
              "      <td>-0.213177</td>\n",
              "      <td>0.115739</td>\n",
              "      <td>0.222682</td>\n",
              "      <td>-0.080155</td>\n",
              "      <td>1.000000</td>\n",
              "      <td>0.151832</td>\n",
              "      <td>-0.391724</td>\n",
              "    </tr>\n",
              "    <tr>\n",
              "      <th>thal</th>\n",
              "      <td>0.068001</td>\n",
              "      <td>0.210041</td>\n",
              "      <td>-0.161736</td>\n",
              "      <td>0.062210</td>\n",
              "      <td>0.098803</td>\n",
              "      <td>-0.032019</td>\n",
              "      <td>-0.011981</td>\n",
              "      <td>-0.096439</td>\n",
              "      <td>0.206754</td>\n",
              "      <td>0.210244</td>\n",
              "      <td>-0.104764</td>\n",
              "      <td>0.151832</td>\n",
              "      <td>1.000000</td>\n",
              "      <td>-0.344029</td>\n",
              "    </tr>\n",
              "    <tr>\n",
              "      <th>target</th>\n",
              "      <td>-0.225439</td>\n",
              "      <td>-0.280937</td>\n",
              "      <td>0.433798</td>\n",
              "      <td>-0.144931</td>\n",
              "      <td>-0.085239</td>\n",
              "      <td>-0.028046</td>\n",
              "      <td>0.137230</td>\n",
              "      <td>0.421741</td>\n",
              "      <td>-0.436757</td>\n",
              "      <td>-0.430696</td>\n",
              "      <td>0.345877</td>\n",
              "      <td>-0.391724</td>\n",
              "      <td>-0.344029</td>\n",
              "      <td>1.000000</td>\n",
              "    </tr>\n",
              "  </tbody>\n",
              "</table>\n",
              "</div>"
            ],
            "text/plain": [
              "               age       sex        cp  trestbps      chol       fbs  \\\n",
              "age       1.000000 -0.098447 -0.068653  0.279351  0.213678  0.121308   \n",
              "sex      -0.098447  1.000000 -0.049353 -0.056769 -0.197912  0.045032   \n",
              "cp       -0.068653 -0.049353  1.000000  0.047608 -0.076904  0.094444   \n",
              "trestbps  0.279351 -0.056769  0.047608  1.000000  0.123174  0.177531   \n",
              "chol      0.213678 -0.197912 -0.076904  0.123174  1.000000  0.013294   \n",
              "fbs       0.121308  0.045032  0.094444  0.177531  0.013294  1.000000   \n",
              "restecg  -0.116211 -0.058196  0.044421 -0.114103 -0.151040 -0.084189   \n",
              "thalach  -0.398522 -0.044020  0.295762 -0.046698 -0.009940 -0.008567   \n",
              "exang     0.096801  0.141664 -0.394280  0.067616  0.067023  0.025665   \n",
              "oldpeak   0.210013  0.096093 -0.149230  0.193216  0.053952  0.005747   \n",
              "slope    -0.168814 -0.030711  0.119717 -0.121475 -0.004038 -0.059894   \n",
              "ca        0.276326  0.118261 -0.181053  0.101389  0.070511  0.137979   \n",
              "thal      0.068001  0.210041 -0.161736  0.062210  0.098803 -0.032019   \n",
              "target   -0.225439 -0.280937  0.433798 -0.144931 -0.085239 -0.028046   \n",
              "\n",
              "           restecg   thalach     exang   oldpeak     slope        ca  \\\n",
              "age      -0.116211 -0.398522  0.096801  0.210013 -0.168814  0.276326   \n",
              "sex      -0.058196 -0.044020  0.141664  0.096093 -0.030711  0.118261   \n",
              "cp        0.044421  0.295762 -0.394280 -0.149230  0.119717 -0.181053   \n",
              "trestbps -0.114103 -0.046698  0.067616  0.193216 -0.121475  0.101389   \n",
              "chol     -0.151040 -0.009940  0.067023  0.053952 -0.004038  0.070511   \n",
              "fbs      -0.084189 -0.008567  0.025665  0.005747 -0.059894  0.137979   \n",
              "restecg   1.000000  0.044123 -0.070733 -0.058770  0.093045 -0.072042   \n",
              "thalach   0.044123  1.000000 -0.378812 -0.344187  0.386784 -0.213177   \n",
              "exang    -0.070733 -0.378812  1.000000  0.288223 -0.257748  0.115739   \n",
              "oldpeak  -0.058770 -0.344187  0.288223  1.000000 -0.577537  0.222682   \n",
              "slope     0.093045  0.386784 -0.257748 -0.577537  1.000000 -0.080155   \n",
              "ca       -0.072042 -0.213177  0.115739  0.222682 -0.080155  1.000000   \n",
              "thal     -0.011981 -0.096439  0.206754  0.210244 -0.104764  0.151832   \n",
              "target    0.137230  0.421741 -0.436757 -0.430696  0.345877 -0.391724   \n",
              "\n",
              "              thal    target  \n",
              "age       0.068001 -0.225439  \n",
              "sex       0.210041 -0.280937  \n",
              "cp       -0.161736  0.433798  \n",
              "trestbps  0.062210 -0.144931  \n",
              "chol      0.098803 -0.085239  \n",
              "fbs      -0.032019 -0.028046  \n",
              "restecg  -0.011981  0.137230  \n",
              "thalach  -0.096439  0.421741  \n",
              "exang     0.206754 -0.436757  \n",
              "oldpeak   0.210244 -0.430696  \n",
              "slope    -0.104764  0.345877  \n",
              "ca        0.151832 -0.391724  \n",
              "thal      1.000000 -0.344029  \n",
              "target   -0.344029  1.000000  "
            ]
          },
          "execution_count": 134,
          "metadata": {},
          "output_type": "execute_result"
        }
      ],
      "source": [
        "# Make a correlation matrix\n",
        "df.corr()"
      ]
    },
    {
      "cell_type": "code",
      "execution_count": null,
      "id": "74ef3ca7-99e0-4c41-9a56-e0dcb7e555a3",
      "metadata": {
        "id": "74ef3ca7-99e0-4c41-9a56-e0dcb7e555a3",
        "outputId": "649508b8-5f33-4205-aeac-bdefcc07f011"
      },
      "outputs": [
        {
          "data": {
            "image/png": "[encoded data removed]",
            "text/plain": [
              "<Figure size 1500x1000 with 2 Axes>"
            ]
          },
          "metadata": {},
          "output_type": "display_data"
        }
      ],
      "source": [
        "corr_matrix = df.corr()\n",
        "fig, ax = plt.subplots(figsize=(15, 10))\n",
        "sns.heatmap(\n",
        "    corr_matrix,\n",
        "    annot=True,      # Add the correlation values on the heatmap\n",
        "    linewidths=0.5,    # Set the width of the lines that will divide each cell\n",
        "    fmt=\".2f\",         # Format the annotation to 2 decimal places\n",
        "    cmap=\"YlGnBu\",     # Set the color map to YlGnBu\n",
        "    ax=ax ,# Pass the ax object to the heatmap\n",
        ")\n",
        "plt.title('Correlation Matrix', size=18)\n",
        "plt.show()\n"
      ]
    },
    {
      "cell_type": "markdown",
      "id": "fda64224-6b2a-48ce-b79d-3255171125d8",
      "metadata": {
        "id": "fda64224-6b2a-48ce-b79d-3255171125d8"
      },
      "source": [
        "## 5. Modelling"
      ]
    },
    {
      "cell_type": "code",
      "execution_count": null,
      "id": "837678a2-7bc4-4b38-88f3-28cfc27f88ea",
      "metadata": {
        "id": "837678a2-7bc4-4b38-88f3-28cfc27f88ea",
        "outputId": "0ad9f6cb-b1f2-44ee-c243-9f4acfa9b5e6"
      },
      "outputs": [
        {
          "data": {
            "text/html": [
              "<div>\n",
              "<style scoped>\n",
              "    .dataframe tbody tr th:only-of-type {\n",
              "        vertical-align: middle;\n",
              "    }\n",
              "\n",
              "    .dataframe tbody tr th {\n",
              "        vertical-align: top;\n",
              "    }\n",
              "\n",
              "    .dataframe thead th {\n",
              "        text-align: right;\n",
              "    }\n",
              "</style>\n",
              "<table border=\"1\" class=\"dataframe\">\n",
              "  <thead>\n",
              "    <tr style=\"text-align: right;\">\n",
              "      <th></th>\n",
              "      <th>age</th>\n",
              "      <th>sex</th>\n",
              "      <th>cp</th>\n",
              "      <th>trestbps</th>\n",
              "      <th>chol</th>\n",
              "      <th>fbs</th>\n",
              "      <th>restecg</th>\n",
              "      <th>thalach</th>\n",
              "      <th>exang</th>\n",
              "      <th>oldpeak</th>\n",
              "      <th>slope</th>\n",
              "      <th>ca</th>\n",
              "      <th>thal</th>\n",
              "      <th>target</th>\n",
              "    </tr>\n",
              "  </thead>\n",
              "  <tbody>\n",
              "    <tr>\n",
              "      <th>0</th>\n",
              "      <td>63</td>\n",
              "      <td>1</td>\n",
              "      <td>3</td>\n",
              "      <td>145</td>\n",
              "      <td>233</td>\n",
              "      <td>1</td>\n",
              "      <td>0</td>\n",
              "      <td>150</td>\n",
              "      <td>0</td>\n",
              "      <td>2.3</td>\n",
              "      <td>0</td>\n",
              "      <td>0</td>\n",
              "      <td>1</td>\n",
              "      <td>1</td>\n",
              "    </tr>\n",
              "    <tr>\n",
              "      <th>1</th>\n",
              "      <td>37</td>\n",
              "      <td>1</td>\n",
              "      <td>2</td>\n",
              "      <td>130</td>\n",
              "      <td>250</td>\n",
              "      <td>0</td>\n",
              "      <td>1</td>\n",
              "      <td>187</td>\n",
              "      <td>0</td>\n",
              "      <td>3.5</td>\n",
              "      <td>0</td>\n",
              "      <td>0</td>\n",
              "      <td>2</td>\n",
              "      <td>1</td>\n",
              "    </tr>\n",
              "    <tr>\n",
              "      <th>2</th>\n",
              "      <td>41</td>\n",
              "      <td>0</td>\n",
              "      <td>1</td>\n",
              "      <td>130</td>\n",
              "      <td>204</td>\n",
              "      <td>0</td>\n",
              "      <td>0</td>\n",
              "      <td>172</td>\n",
              "      <td>0</td>\n",
              "      <td>1.4</td>\n",
              "      <td>2</td>\n",
              "      <td>0</td>\n",
              "      <td>2</td>\n",
              "      <td>1</td>\n",
              "    </tr>\n",
              "    <tr>\n",
              "      <th>3</th>\n",
              "      <td>56</td>\n",
              "      <td>1</td>\n",
              "      <td>1</td>\n",
              "      <td>120</td>\n",
              "      <td>236</td>\n",
              "      <td>0</td>\n",
              "      <td>1</td>\n",
              "      <td>178</td>\n",
              "      <td>0</td>\n",
              "      <td>0.8</td>\n",
              "      <td>2</td>\n",
              "      <td>0</td>\n",
              "      <td>2</td>\n",
              "      <td>1</td>\n",
              "    </tr>\n",
              "    <tr>\n",
              "      <th>4</th>\n",
              "      <td>57</td>\n",
              "      <td>0</td>\n",
              "      <td>0</td>\n",
              "      <td>120</td>\n",
              "      <td>354</td>\n",
              "      <td>0</td>\n",
              "      <td>1</td>\n",
              "      <td>163</td>\n",
              "      <td>1</td>\n",
              "      <td>0.6</td>\n",
              "      <td>2</td>\n",
              "      <td>0</td>\n",
              "      <td>2</td>\n",
              "      <td>1</td>\n",
              "    </tr>\n",
              "  </tbody>\n",
              "</table>\n",
              "</div>"
            ],
            "text/plain": [
              "   age  sex  cp  trestbps  chol  fbs  restecg  thalach  exang  oldpeak  slope  \\\n",
              "0   63    1   3       145   233    1        0      150      0      2.3      0   \n",
              "1   37    1   2       130   250    0        1      187      0      3.5      0   \n",
              "2   41    0   1       130   204    0        0      172      0      1.4      2   \n",
              "3   56    1   1       120   236    0        1      178      0      0.8      2   \n",
              "4   57    0   0       120   354    0        1      163      1      0.6      2   \n",
              "\n",
              "   ca  thal  target  \n",
              "0   0     1       1  \n",
              "1   0     2       1  \n",
              "2   0     2       1  \n",
              "3   0     2       1  \n",
              "4   0     2       1  "
            ]
          },
          "execution_count": 136,
          "metadata": {},
          "output_type": "execute_result"
        }
      ],
      "source": [
        "df.head()"
      ]
    },
    {
      "cell_type": "code",
      "execution_count": null,
      "id": "e4a7236a-d7be-4172-a6c9-e23691070bb5",
      "metadata": {
        "id": "e4a7236a-d7be-4172-a6c9-e23691070bb5"
      },
      "outputs": [],
      "source": [
        "# Split data into X and y\n",
        "X = df.drop(\"target\",axis=1)\n",
        "y = df[\"target\"]\n",
        "\n",
        "np.random.seed(42)\n",
        "# Split data into train and test sets\n",
        "X_train,X_test,y_train,y_test = train_test_split(X,y,test_size=0.2)\n"
      ]
    },
    {
      "cell_type": "code",
      "execution_count": null,
      "id": "09024fe4-2d5f-4c55-b726-62b587c77baa",
      "metadata": {
        "id": "09024fe4-2d5f-4c55-b726-62b587c77baa",
        "outputId": "7a7cdca0-d31e-43ed-c23b-1446c6a5a89a"
      },
      "outputs": [
        {
          "data": {
            "text/html": [
              "<div>\n",
              "<style scoped>\n",
              "    .dataframe tbody tr th:only-of-type {\n",
              "        vertical-align: middle;\n",
              "    }\n",
              "\n",
              "    .dataframe tbody tr th {\n",
              "        vertical-align: top;\n",
              "    }\n",
              "\n",
              "    .dataframe thead th {\n",
              "        text-align: right;\n",
              "    }\n",
              "</style>\n",
              "<table border=\"1\" class=\"dataframe\">\n",
              "  <thead>\n",
              "    <tr style=\"text-align: right;\">\n",
              "      <th></th>\n",
              "      <th>age</th>\n",
              "      <th>sex</th>\n",
              "      <th>cp</th>\n",
              "      <th>trestbps</th>\n",
              "      <th>chol</th>\n",
              "      <th>fbs</th>\n",
              "      <th>restecg</th>\n",
              "      <th>thalach</th>\n",
              "      <th>exang</th>\n",
              "      <th>oldpeak</th>\n",
              "      <th>slope</th>\n",
              "      <th>ca</th>\n",
              "      <th>thal</th>\n",
              "    </tr>\n",
              "  </thead>\n",
              "  <tbody>\n",
              "    <tr>\n",
              "      <th>132</th>\n",
              "      <td>42</td>\n",
              "      <td>1</td>\n",
              "      <td>1</td>\n",
              "      <td>120</td>\n",
              "      <td>295</td>\n",
              "      <td>0</td>\n",
              "      <td>1</td>\n",
              "      <td>162</td>\n",
              "      <td>0</td>\n",
              "      <td>0.0</td>\n",
              "      <td>2</td>\n",
              "      <td>0</td>\n",
              "      <td>2</td>\n",
              "    </tr>\n",
              "    <tr>\n",
              "      <th>202</th>\n",
              "      <td>58</td>\n",
              "      <td>1</td>\n",
              "      <td>0</td>\n",
              "      <td>150</td>\n",
              "      <td>270</td>\n",
              "      <td>0</td>\n",
              "      <td>0</td>\n",
              "      <td>111</td>\n",
              "      <td>1</td>\n",
              "      <td>0.8</td>\n",
              "      <td>2</td>\n",
              "      <td>0</td>\n",
              "      <td>3</td>\n",
              "    </tr>\n",
              "    <tr>\n",
              "      <th>196</th>\n",
              "      <td>46</td>\n",
              "      <td>1</td>\n",
              "      <td>2</td>\n",
              "      <td>150</td>\n",
              "      <td>231</td>\n",
              "      <td>0</td>\n",
              "      <td>1</td>\n",
              "      <td>147</td>\n",
              "      <td>0</td>\n",
              "      <td>3.6</td>\n",
              "      <td>1</td>\n",
              "      <td>0</td>\n",
              "      <td>2</td>\n",
              "    </tr>\n",
              "    <tr>\n",
              "      <th>75</th>\n",
              "      <td>55</td>\n",
              "      <td>0</td>\n",
              "      <td>1</td>\n",
              "      <td>135</td>\n",
              "      <td>250</td>\n",
              "      <td>0</td>\n",
              "      <td>0</td>\n",
              "      <td>161</td>\n",
              "      <td>0</td>\n",
              "      <td>1.4</td>\n",
              "      <td>1</td>\n",
              "      <td>0</td>\n",
              "      <td>2</td>\n",
              "    </tr>\n",
              "    <tr>\n",
              "      <th>176</th>\n",
              "      <td>60</td>\n",
              "      <td>1</td>\n",
              "      <td>0</td>\n",
              "      <td>117</td>\n",
              "      <td>230</td>\n",
              "      <td>1</td>\n",
              "      <td>1</td>\n",
              "      <td>160</td>\n",
              "      <td>1</td>\n",
              "      <td>1.4</td>\n",
              "      <td>2</td>\n",
              "      <td>2</td>\n",
              "      <td>3</td>\n",
              "    </tr>\n",
              "    <tr>\n",
              "      <th>...</th>\n",
              "      <td>...</td>\n",
              "      <td>...</td>\n",
              "      <td>...</td>\n",
              "      <td>...</td>\n",
              "      <td>...</td>\n",
              "      <td>...</td>\n",
              "      <td>...</td>\n",
              "      <td>...</td>\n",
              "      <td>...</td>\n",
              "      <td>...</td>\n",
              "      <td>...</td>\n",
              "      <td>...</td>\n",
              "      <td>...</td>\n",
              "    </tr>\n",
              "    <tr>\n",
              "      <th>188</th>\n",
              "      <td>50</td>\n",
              "      <td>1</td>\n",
              "      <td>2</td>\n",
              "      <td>140</td>\n",
              "      <td>233</td>\n",
              "      <td>0</td>\n",
              "      <td>1</td>\n",
              "      <td>163</td>\n",
              "      <td>0</td>\n",
              "      <td>0.6</td>\n",
              "      <td>1</td>\n",
              "      <td>1</td>\n",
              "      <td>3</td>\n",
              "    </tr>\n",
              "    <tr>\n",
              "      <th>71</th>\n",
              "      <td>51</td>\n",
              "      <td>1</td>\n",
              "      <td>2</td>\n",
              "      <td>94</td>\n",
              "      <td>227</td>\n",
              "      <td>0</td>\n",
              "      <td>1</td>\n",
              "      <td>154</td>\n",
              "      <td>1</td>\n",
              "      <td>0.0</td>\n",
              "      <td>2</td>\n",
              "      <td>1</td>\n",
              "      <td>3</td>\n",
              "    </tr>\n",
              "    <tr>\n",
              "      <th>106</th>\n",
              "      <td>69</td>\n",
              "      <td>1</td>\n",
              "      <td>3</td>\n",
              "      <td>160</td>\n",
              "      <td>234</td>\n",
              "      <td>1</td>\n",
              "      <td>0</td>\n",
              "      <td>131</td>\n",
              "      <td>0</td>\n",
              "      <td>0.1</td>\n",
              "      <td>1</td>\n",
              "      <td>1</td>\n",
              "      <td>2</td>\n",
              "    </tr>\n",
              "    <tr>\n",
              "      <th>270</th>\n",
              "      <td>46</td>\n",
              "      <td>1</td>\n",
              "      <td>0</td>\n",
              "      <td>120</td>\n",
              "      <td>249</td>\n",
              "      <td>0</td>\n",
              "      <td>0</td>\n",
              "      <td>144</td>\n",
              "      <td>0</td>\n",
              "      <td>0.8</td>\n",
              "      <td>2</td>\n",
              "      <td>0</td>\n",
              "      <td>3</td>\n",
              "    </tr>\n",
              "    <tr>\n",
              "      <th>102</th>\n",
              "      <td>63</td>\n",
              "      <td>0</td>\n",
              "      <td>1</td>\n",
              "      <td>140</td>\n",
              "      <td>195</td>\n",
              "      <td>0</td>\n",
              "      <td>1</td>\n",
              "      <td>179</td>\n",
              "      <td>0</td>\n",
              "      <td>0.0</td>\n",
              "      <td>2</td>\n",
              "      <td>2</td>\n",
              "      <td>2</td>\n",
              "    </tr>\n",
              "  </tbody>\n",
              "</table>\n",
              "<p>242 rows × 13 columns</p>\n",
              "</div>"
            ],
            "text/plain": [
              "     age  sex  cp  trestbps  chol  fbs  restecg  thalach  exang  oldpeak  \\\n",
              "132   42    1   1       120   295    0        1      162      0      0.0   \n",
              "202   58    1   0       150   270    0        0      111      1      0.8   \n",
              "196   46    1   2       150   231    0        1      147      0      3.6   \n",
              "75    55    0   1       135   250    0        0      161      0      1.4   \n",
              "176   60    1   0       117   230    1        1      160      1      1.4   \n",
              "..   ...  ...  ..       ...   ...  ...      ...      ...    ...      ...   \n",
              "188   50    1   2       140   233    0        1      163      0      0.6   \n",
              "71    51    1   2        94   227    0        1      154      1      0.0   \n",
              "106   69    1   3       160   234    1        0      131      0      0.1   \n",
              "270   46    1   0       120   249    0        0      144      0      0.8   \n",
              "102   63    0   1       140   195    0        1      179      0      0.0   \n",
              "\n",
              "     slope  ca  thal  \n",
              "132      2   0     2  \n",
              "202      2   0     3  \n",
              "196      1   0     2  \n",
              "75       1   0     2  \n",
              "176      2   2     3  \n",
              "..     ...  ..   ...  \n",
              "188      1   1     3  \n",
              "71       2   1     3  \n",
              "106      1   1     2  \n",
              "270      2   0     3  \n",
              "102      2   2     2  \n",
              "\n",
              "[242 rows x 13 columns]"
            ]
          },
          "execution_count": 138,
          "metadata": {},
          "output_type": "execute_result"
        }
      ],
      "source": [
        "X_train"
      ]
    },
    {
      "cell_type": "code",
      "execution_count": null,
      "id": "68334b1d-6586-4bf6-84cf-5bd5e4c87467",
      "metadata": {
        "id": "68334b1d-6586-4bf6-84cf-5bd5e4c87467",
        "outputId": "26f9703e-1cd1-463e-d1b6-b0e05cd8f07a"
      },
      "outputs": [
        {
          "data": {
            "text/plain": [
              "(132    1\n",
              " 202    0\n",
              " 196    0\n",
              " 75     1\n",
              " 176    0\n",
              "       ..\n",
              " 188    0\n",
              " 71     1\n",
              " 106    1\n",
              " 270    0\n",
              " 102    1\n",
              " Name: target, Length: 242, dtype: int64,\n",
              " 242)"
            ]
          },
          "execution_count": 139,
          "metadata": {},
          "output_type": "execute_result"
        }
      ],
      "source": [
        "y_train,len(y_train)"
      ]
    },
    {
      "cell_type": "markdown",
      "id": "f560f567-b1c3-410f-ad07-60e61cdc8e5b",
      "metadata": {
        "id": "f560f567-b1c3-410f-ad07-60e61cdc8e5b"
      },
      "source": [
        "Now we've got our data split into training amd test sets, it's time to build a machine learning model\n",
        "\n",
        "we'll train it(find the patterns) on the trainingset\n",
        "\n",
        "And we'll test it(use the patterns ) on the test set\n",
        "\n",
        "We're goind to try 3 different  machine learning models:\n",
        "1. Logistic Regression\n",
        "2. K-Nearest Neighbours Classifier\n",
        "3. Random Forest Classifier\n"
      ]
    },
    {
      "cell_type": "code",
      "execution_count": null,
      "id": "fd9a4613-f495-49ed-a84b-78b75a413ef4",
      "metadata": {
        "id": "fd9a4613-f495-49ed-a84b-78b75a413ef4"
      },
      "outputs": [],
      "source": [
        "# Put models in a dictionary\n",
        "models = {\"Logistic Regression\": LogisticRegression(solver='liblinear', max_iter=1000),\n",
        "          \"KNN\" : KNeighborsClassifier(),\n",
        "          \"Random Forest\": RandomForestClassifier()\n",
        "}\n",
        "\n",
        "# Create a function to fit and score models\n",
        "\n",
        "def fit_and_score(models,X_train,X_test,y_train,y_test):\n",
        "    \"\"\"\n",
        "    Fits and evaluates given machine learning models.\n",
        "    models : a dict of different Scikit-Learn machine learning models\n",
        "    X_train : training data (no labels)\n",
        "    X_test : testing data (no labels)\n",
        "    y_train : training labels\n",
        "    y_test : test labels\n",
        "    \"\"\"\n",
        "    # Set random seed\n",
        "    np.random.seed(42)\n",
        "    # Make a  dictionary to keep model scores\n",
        "    model_scores = {}\n",
        "    # loop through models\n",
        "    for name , model in models.items():\n",
        "        # fit the model to the data\n",
        "        model.fit(X_train,y_train)\n",
        "        #Evaluate the model and append its score to model_scores\n",
        "        model_scores[name] = model.score(X_test,y_test)\n",
        "    return model_scores"
      ]
    },
    {
      "cell_type": "code",
      "execution_count": null,
      "id": "7acb5276-9bea-4456-9ec0-f29458203345",
      "metadata": {
        "id": "7acb5276-9bea-4456-9ec0-f29458203345",
        "outputId": "9c3e0e61-022a-47e5-973b-497f84fb5d01"
      },
      "outputs": [
        {
          "data": {
            "text/plain": [
              "{'Logistic Regression': 0.8688524590163934,\n",
              " 'KNN': 0.6885245901639344,\n",
              " 'Random Forest': 0.8360655737704918}"
            ]
          },
          "execution_count": 141,
          "metadata": {},
          "output_type": "execute_result"
        }
      ],
      "source": [
        "model_scores = fit_and_score(models=models,\n",
        "                           X_train=X_train,\n",
        "                           X_test=X_test,\n",
        "                           y_train=y_train,\n",
        "                           y_test=y_test)\n",
        "model_scores"
      ]
    },
    {
      "cell_type": "markdown",
      "id": "a2de013c-bfee-410a-b59d-09cdc662afae",
      "metadata": {
        "id": "a2de013c-bfee-410a-b59d-09cdc662afae"
      },
      "source": [
        "### Model Comparison"
      ]
    },
    {
      "cell_type": "code",
      "execution_count": null,
      "id": "338924ea-308e-4c76-aa59-51e07bf7754d",
      "metadata": {
        "id": "338924ea-308e-4c76-aa59-51e07bf7754d",
        "outputId": "cbcb2e5a-6e6f-4ab4-f5d6-eea3d4d18e3b"
      },
      "outputs": [
        {
          "data": {
            "image/png": "[encoded data removed]",
            "text/plain": [
              "<Figure size 640x480 with 1 Axes>"
            ]
          },
          "metadata": {},
          "output_type": "display_data"
        }
      ],
      "source": [
        "model_compare  = pd.DataFrame(model_scores,index = [\"accuracy\"])\n",
        "model_compare.T.plot.bar();\n"
      ]
    },
    {
      "cell_type": "markdown",
      "id": "da891c6e-3562-4dc2-8c11-a87fc56635d0",
      "metadata": {
        "id": "da891c6e-3562-4dc2-8c11-a87fc56635d0"
      },
      "source": [
        "Now we've got baseline model... and we know  a model's first\n",
        "perdictions aren't always  what we should based our next steps off.\n",
        "What should do?\n",
        "\n",
        "let's look at the following:\n",
        " * Hyperparameters tuning\n",
        " * Feature importance\n",
        " * confusion Matrix\n",
        " * Cross validation\n",
        " * Precision\n",
        " * Recall\n",
        " * F1 score\n",
        " * Classification report\n",
        " * ROC curve\n",
        " * Area under the curve(AUC)\n",
        "\n",
        "\n",
        "## Hyperparameter tuning (By Hand)"
      ]
    },
    {
      "cell_type": "code",
      "execution_count": null,
      "id": "37ed8eea-51c6-4bba-8758-dcae08cc4153",
      "metadata": {
        "id": "37ed8eea-51c6-4bba-8758-dcae08cc4153"
      },
      "outputs": [],
      "source": [
        "# let's tune KNN\n",
        "\n",
        "train_scores= []\n",
        "test_scores= []\n",
        "\n",
        "# Create a list of different values for n_neighbors\n",
        "neighbors = range(1,21)\n",
        "\n",
        "# Setup KNN instance\n",
        "knn = KNeighborsClassifier()\n",
        "\n",
        "# Loop through different n_neighbors\n",
        "for i in neighbors:\n",
        "    knn.set_params(n_neighbors=i)\n",
        "\n",
        "    # Fit the algorithm\n",
        "    knn.fit(X_train,y_train)\n",
        "\n",
        "    # Update the training scores list\n",
        "    train_scores.append(knn.score(X_train,y_train))\n",
        "\n",
        "    # Update the test scores list\n",
        "    test_scores.append(knn.score(X_test,y_test))\n"
      ]
    },
    {
      "cell_type": "code",
      "execution_count": null,
      "id": "e0e12192-e4c2-426c-bc1f-be93503f501a",
      "metadata": {
        "id": "e0e12192-e4c2-426c-bc1f-be93503f501a",
        "outputId": "040d5482-8dcb-4aad-b403-e36447b413ac"
      },
      "outputs": [
        {
          "data": {
            "text/plain": [
              "[1.0,\n",
              " 0.8099173553719008,\n",
              " 0.7727272727272727,\n",
              " 0.743801652892562,\n",
              " 0.7603305785123967,\n",
              " 0.7520661157024794,\n",
              " 0.743801652892562,\n",
              " 0.7231404958677686,\n",
              " 0.71900826446281,\n",
              " 0.6942148760330579,\n",
              " 0.7272727272727273,\n",
              " 0.6983471074380165,\n",
              " 0.6900826446280992,\n",
              " 0.6942148760330579,\n",
              " 0.6859504132231405,\n",
              " 0.6735537190082644,\n",
              " 0.6859504132231405,\n",
              " 0.6652892561983471,\n",
              " 0.6818181818181818,\n",
              " 0.6694214876033058]"
            ]
          },
          "execution_count": 144,
          "metadata": {},
          "output_type": "execute_result"
        }
      ],
      "source": [
        "train_scores"
      ]
    },
    {
      "cell_type": "code",
      "execution_count": null,
      "id": "1f283b84-89d7-4fcd-9a18-a3874cdf92ad",
      "metadata": {
        "id": "1f283b84-89d7-4fcd-9a18-a3874cdf92ad",
        "outputId": "56f42266-6e4d-42a1-e75d-b01c69f15237"
      },
      "outputs": [
        {
          "name": "stdout",
          "output_type": "stream",
          "text": [
            "Maximum KNN score on the test data: 75.41%\n"
          ]
        },
        {
          "data": {
            "image/png": "[encoded data removed]",
            "text/plain": [
              "<Figure size 640x480 with 1 Axes>"
            ]
          },
          "metadata": {},
          "output_type": "display_data"
        }
      ],
      "source": [
        "plt.plot(neighbors, train_scores,label=\"Train score\")\n",
        "plt.plot(neighbors, test_scores, label =\"Test score\")\n",
        "plt.xticks(np.arange(1,21,1))\n",
        "plt.xlabel(\"Number of neighbors\")\n",
        "plt.ylabel(\"Model score\")\n",
        "plt.legend()\n",
        "\n",
        "print(f\"Maximum KNN score on the test data: {max(test_scores)*100:.2f}%\")"
      ]
    },
    {
      "cell_type": "markdown",
      "id": "8d10dc17-ade9-4e85-8fbc-e2176e9a275e",
      "metadata": {
        "id": "8d10dc17-ade9-4e85-8fbc-e2176e9a275e"
      },
      "source": [
        "## Hyperparmater tuning with RandomSearchCV\n",
        "\n",
        "We're going to tune:\n",
        "* LogisticRegression()\n",
        "* RandomForestClassifier()\n",
        "... using RandomSearchCV"
      ]
    },
    {
      "cell_type": "code",
      "execution_count": null,
      "id": "64b23cc9-c6f3-4524-b154-cf6fb81f5b64",
      "metadata": {
        "id": "64b23cc9-c6f3-4524-b154-cf6fb81f5b64"
      },
      "outputs": [],
      "source": [
        "# Create a hypterparameter grid for LogisticRegression\n",
        "log_reg_grid = {\"C\":np.logspace(-4,4,20),\n",
        "                \"solver\":[\"liblinear\"]}\n",
        "\n",
        "# Create a hyperparameter grid for RandomForestClassifier\n",
        "rf_grid = {\"n_estimators\":np.arange(10,1000,50),\n",
        "          \"max_depth\": [None,3,5,10],\n",
        "          \"min_samples_split\":np.arange(2,20,2),\n",
        "          \"min_samples_leaf\":np.arange(1,20,2)}"
      ]
    },
    {
      "cell_type": "markdown",
      "id": "fd73c29a-9095-4e70-8c33-aac5d4283aea",
      "metadata": {
        "id": "fd73c29a-9095-4e70-8c33-aac5d4283aea"
      },
      "source": [
        "Now we've got hyperparameter grid setup for each of our models,let's tune them using RandomizedSeachCV"
      ]
    },
    {
      "cell_type": "code",
      "execution_count": null,
      "id": "1b77ef73-1691-4a1a-971d-d83bb1245748",
      "metadata": {
        "id": "1b77ef73-1691-4a1a-971d-d83bb1245748",
        "outputId": "c1ade601-7b20-42ab-a70f-5eb4d34c6af0"
      },
      "outputs": [
        {
          "name": "stdout",
          "output_type": "stream",
          "text": [
            "Fitting 5 folds for each of 20 candidates, totalling 100 fits\n"
          ]
        },
        {
          "data": {
            "text/html": [
              "<style>#sk-container-id-5 {\n",
              "  /* Definition of color scheme common for light and dark mode */\n",
              "  --sklearn-color-text: black;\n",
              "  --sklearn-color-line: gray;\n",
              "  /* Definition of color scheme for unfitted estimators */\n",
              "  --sklearn-color-unfitted-level-0: #fff5e6;\n",
              "  --sklearn-color-unfitted-level-1: #f6e4d2;\n",
              "  --sklearn-color-unfitted-level-2: #ffe0b3;\n",
              "  --sklearn-color-unfitted-level-3: chocolate;\n",
              "  /* Definition of color scheme for fitted estimators */\n",
              "  --sklearn-color-fitted-level-0: #f0f8ff;\n",
              "  --sklearn-color-fitted-level-1: #d4ebff;\n",
              "  --sklearn-color-fitted-level-2: #b3dbfd;\n",
              "  --sklearn-color-fitted-level-3: cornflowerblue;\n",
              "\n",
              "  /* Specific color for light theme */\n",
              "  --sklearn-color-text-on-default-background: var(--sg-text-color, var(--theme-code-foreground, var(--jp-content-font-color1, black)));\n",
              "  --sklearn-color-background: var(--sg-background-color, var(--theme-background, var(--jp-layout-color0, white)));\n",
              "  --sklearn-color-border-box: var(--sg-text-color, var(--theme-code-foreground, var(--jp-content-font-color1, black)));\n",
              "  --sklearn-color-icon: #696969;\n",
              "\n",
              "  @media (prefers-color-scheme: dark) {\n",
              "    /* Redefinition of color scheme for dark theme */\n",
              "    --sklearn-color-text-on-default-background: var(--sg-text-color, var(--theme-code-foreground, var(--jp-content-font-color1, white)));\n",
              "    --sklearn-color-background: var(--sg-background-color, var(--theme-background, var(--jp-layout-color0, #111)));\n",
              "    --sklearn-color-border-box: var(--sg-text-color, var(--theme-code-foreground, var(--jp-content-font-color1, white)));\n",
              "    --sklearn-color-icon: #878787;\n",
              "  }\n",
              "}\n",
              "\n",
              "#sk-container-id-5 {\n",
              "  color: var(--sklearn-color-text);\n",
              "}\n",
              "\n",
              "#sk-container-id-5 pre {\n",
              "  padding: 0;\n",
              "}\n",
              "\n",
              "#sk-container-id-5 input.sk-hidden--visually {\n",
              "  border: 0;\n",
              "  clip: rect(1px 1px 1px 1px);\n",
              "  clip: rect(1px, 1px, 1px, 1px);\n",
              "  height: 1px;\n",
              "  margin: -1px;\n",
              "  overflow: hidden;\n",
              "  padding: 0;\n",
              "  position: absolute;\n",
              "  width: 1px;\n",
              "}\n",
              "\n",
              "#sk-container-id-5 div.sk-dashed-wrapped {\n",
              "  border: 1px dashed var(--sklearn-color-line);\n",
              "  margin: 0 0.4em 0.5em 0.4em;\n",
              "  box-sizing: border-box;\n",
              "  padding-bottom: 0.4em;\n",
              "  background-color: var(--sklearn-color-background);\n",
              "}\n",
              "\n",
              "#sk-container-id-5 div.sk-container {\n",
              "  /* jupyter's `normalize.less` sets `[hidden] { display: none; }`\n",
              "     but bootstrap.min.css set `[hidden] { display: none !important; }`\n",
              "     so we also need the `!important` here to be able to override the\n",
              "     default hidden behavior on the sphinx rendered scikit-learn.org.\n",
              "     See: https://github.com/scikit-learn/scikit-learn/issues/21755 */\n",
              "  display: inline-block !important;\n",
              "  position: relative;\n",
              "}\n",
              "\n",
              "#sk-container-id-5 div.sk-text-repr-fallback {\n",
              "  display: none;\n",
              "}\n",
              "\n",
              "div.sk-parallel-item,\n",
              "div.sk-serial,\n",
              "div.sk-item {\n",
              "  /* draw centered vertical line to link estimators */\n",
              "  background-image: linear-gradient(var(--sklearn-color-text-on-default-background), var(--sklearn-color-text-on-default-background));\n",
              "  background-size: 2px 100%;\n",
              "  background-repeat: no-repeat;\n",
              "  background-position: center center;\n",
              "}\n",
              "\n",
              "/* Parallel-specific style estimator block */\n",
              "\n",
              "#sk-container-id-5 div.sk-parallel-item::after {\n",
              "  content: \"\";\n",
              "  width: 100%;\n",
              "  border-bottom: 2px solid var(--sklearn-color-text-on-default-background);\n",
              "  flex-grow: 1;\n",
              "}\n",
              "\n",
              "#sk-container-id-5 div.sk-parallel {\n",
              "  display: flex;\n",
              "  align-items: stretch;\n",
              "  justify-content: center;\n",
              "  background-color: var(--sklearn-color-background);\n",
              "  position: relative;\n",
              "}\n",
              "\n",
              "#sk-container-id-5 div.sk-parallel-item {\n",
              "  display: flex;\n",
              "  flex-direction: column;\n",
              "}\n",
              "\n",
              "#sk-container-id-5 div.sk-parallel-item:first-child::after {\n",
              "  align-self: flex-end;\n",
              "  width: 50%;\n",
              "}\n",
              "\n",
              "#sk-container-id-5 div.sk-parallel-item:last-child::after {\n",
              "  align-self: flex-start;\n",
              "  width: 50%;\n",
              "}\n",
              "\n",
              "#sk-container-id-5 div.sk-parallel-item:only-child::after {\n",
              "  width: 0;\n",
              "}\n",
              "\n",
              "/* Serial-specific style estimator block */\n",
              "\n",
              "#sk-container-id-5 div.sk-serial {\n",
              "  display: flex;\n",
              "  flex-direction: column;\n",
              "  align-items: center;\n",
              "  background-color: var(--sklearn-color-background);\n",
              "  padding-right: 1em;\n",
              "  padding-left: 1em;\n",
              "}\n",
              "\n",
              "\n",
              "/* Toggleable style: style used for estimator/Pipeline/ColumnTransformer box that is\n",
              "clickable and can be expanded/collapsed.\n",
              "- Pipeline and ColumnTransformer use this feature and define the default style\n",
              "- Estimators will overwrite some part of the style using the `sk-estimator` class\n",
              "*/\n",
              "\n",
              "/* Pipeline and ColumnTransformer style (default) */\n",
              "\n",
              "#sk-container-id-5 div.sk-toggleable {\n",
              "  /* Default theme specific background. It is overwritten whether we have a\n",
              "  specific estimator or a Pipeline/ColumnTransformer */\n",
              "  background-color: var(--sklearn-color-background);\n",
              "}\n",
              "\n",
              "/* Toggleable label */\n",
              "#sk-container-id-5 label.sk-toggleable__label {\n",
              "  cursor: pointer;\n",
              "  display: block;\n",
              "  width: 100%;\n",
              "  margin-bottom: 0;\n",
              "  padding: 0.5em;\n",
              "  box-sizing: border-box;\n",
              "  text-align: center;\n",
              "}\n",
              "\n",
              "#sk-container-id-5 label.sk-toggleable__label-arrow:before {\n",
              "  /* Arrow on the left of the label */\n",
              "  content: \"▸\";\n",
              "  float: left;\n",
              "  margin-right: 0.25em;\n",
              "  color: var(--sklearn-color-icon);\n",
              "}\n",
              "\n",
              "#sk-container-id-5 label.sk-toggleable__label-arrow:hover:before {\n",
              "  color: var(--sklearn-color-text);\n",
              "}\n",
              "\n",
              "/* Toggleable content - dropdown */\n",
              "\n",
              "#sk-container-id-5 div.sk-toggleable__content {\n",
              "  max-height: 0;\n",
              "  max-width: 0;\n",
              "  overflow: hidden;\n",
              "  text-align: left;\n",
              "  /* unfitted */\n",
              "  background-color: var(--sklearn-color-unfitted-level-0);\n",
              "}\n",
              "\n",
              "#sk-container-id-5 div.sk-toggleable__content.fitted {\n",
              "  /* fitted */\n",
              "  background-color: var(--sklearn-color-fitted-level-0);\n",
              "}\n",
              "\n",
              "#sk-container-id-5 div.sk-toggleable__content pre {\n",
              "  margin: 0.2em;\n",
              "  border-radius: 0.25em;\n",
              "  color: var(--sklearn-color-text);\n",
              "  /* unfitted */\n",
              "  background-color: var(--sklearn-color-unfitted-level-0);\n",
              "}\n",
              "\n",
              "#sk-container-id-5 div.sk-toggleable__content.fitted pre {\n",
              "  /* unfitted */\n",
              "  background-color: var(--sklearn-color-fitted-level-0);\n",
              "}\n",
              "\n",
              "#sk-container-id-5 input.sk-toggleable__control:checked~div.sk-toggleable__content {\n",
              "  /* Expand drop-down */\n",
              "  max-height: 200px;\n",
              "  max-width: 100%;\n",
              "  overflow: auto;\n",
              "}\n",
              "\n",
              "#sk-container-id-5 input.sk-toggleable__control:checked~label.sk-toggleable__label-arrow:before {\n",
              "  content: \"▾\";\n",
              "}\n",
              "\n",
              "/* Pipeline/ColumnTransformer-specific style */\n",
              "\n",
              "#sk-container-id-5 div.sk-label input.sk-toggleable__control:checked~label.sk-toggleable__label {\n",
              "  color: var(--sklearn-color-text);\n",
              "  background-color: var(--sklearn-color-unfitted-level-2);\n",
              "}\n",
              "\n",
              "#sk-container-id-5 div.sk-label.fitted input.sk-toggleable__control:checked~label.sk-toggleable__label {\n",
              "  background-color: var(--sklearn-color-fitted-level-2);\n",
              "}\n",
              "\n",
              "/* Estimator-specific style */\n",
              "\n",
              "/* Colorize estimator box */\n",
              "#sk-container-id-5 div.sk-estimator input.sk-toggleable__control:checked~label.sk-toggleable__label {\n",
              "  /* unfitted */\n",
              "  background-color: var(--sklearn-color-unfitted-level-2);\n",
              "}\n",
              "\n",
              "#sk-container-id-5 div.sk-estimator.fitted input.sk-toggleable__control:checked~label.sk-toggleable__label {\n",
              "  /* fitted */\n",
              "  background-color: var(--sklearn-color-fitted-level-2);\n",
              "}\n",
              "\n",
              "#sk-container-id-5 div.sk-label label.sk-toggleable__label,\n",
              "#sk-container-id-5 div.sk-label label {\n",
              "  /* The background is the default theme color */\n",
              "  color: var(--sklearn-color-text-on-default-background);\n",
              "}\n",
              "\n",
              "/* On hover, darken the color of the background */\n",
              "#sk-container-id-5 div.sk-label:hover label.sk-toggleable__label {\n",
              "  color: var(--sklearn-color-text);\n",
              "  background-color: var(--sklearn-color-unfitted-level-2);\n",
              "}\n",
              "\n",
              "/* Label box, darken color on hover, fitted */\n",
              "#sk-container-id-5 div.sk-label.fitted:hover label.sk-toggleable__label.fitted {\n",
              "  color: var(--sklearn-color-text);\n",
              "  background-color: var(--sklearn-color-fitted-level-2);\n",
              "}\n",
              "\n",
              "/* Estimator label */\n",
              "\n",
              "#sk-container-id-5 div.sk-label label {\n",
              "  font-family: monospace;\n",
              "  font-weight: bold;\n",
              "  display: inline-block;\n",
              "  line-height: 1.2em;\n",
              "}\n",
              "\n",
              "#sk-container-id-5 div.sk-label-container {\n",
              "  text-align: center;\n",
              "}\n",
              "\n",
              "/* Estimator-specific */\n",
              "#sk-container-id-5 div.sk-estimator {\n",
              "  font-family: monospace;\n",
              "  border: 1px dotted var(--sklearn-color-border-box);\n",
              "  border-radius: 0.25em;\n",
              "  box-sizing: border-box;\n",
              "  margin-bottom: 0.5em;\n",
              "  /* unfitted */\n",
              "  background-color: var(--sklearn-color-unfitted-level-0);\n",
              "}\n",
              "\n",
              "#sk-container-id-5 div.sk-estimator.fitted {\n",
              "  /* fitted */\n",
              "  background-color: var(--sklearn-color-fitted-level-0);\n",
              "}\n",
              "\n",
              "/* on hover */\n",
              "#sk-container-id-5 div.sk-estimator:hover {\n",
              "  /* unfitted */\n",
              "  background-color: var(--sklearn-color-unfitted-level-2);\n",
              "}\n",
              "\n",
              "#sk-container-id-5 div.sk-estimator.fitted:hover {\n",
              "  /* fitted */\n",
              "  background-color: var(--sklearn-color-fitted-level-2);\n",
              "}\n",
              "\n",
              "/* Specification for estimator info (e.g. \"i\" and \"?\") */\n",
              "\n",
              "/* Common style for \"i\" and \"?\" */\n",
              "\n",
              ".sk-estimator-doc-link,\n",
              "a:link.sk-estimator-doc-link,\n",
              "a:visited.sk-estimator-doc-link {\n",
              "  float: right;\n",
              "  font-size: smaller;\n",
              "  line-height: 1em;\n",
              "  font-family: monospace;\n",
              "  background-color: var(--sklearn-color-background);\n",
              "  border-radius: 1em;\n",
              "  height: 1em;\n",
              "  width: 1em;\n",
              "  text-decoration: none !important;\n",
              "  margin-left: 1ex;\n",
              "  /* unfitted */\n",
              "  border: var(--sklearn-color-unfitted-level-1) 1pt solid;\n",
              "  color: var(--sklearn-color-unfitted-level-1);\n",
              "}\n",
              "\n",
              ".sk-estimator-doc-link.fitted,\n",
              "a:link.sk-estimator-doc-link.fitted,\n",
              "a:visited.sk-estimator-doc-link.fitted {\n",
              "  /* fitted */\n",
              "  border: var(--sklearn-color-fitted-level-1) 1pt solid;\n",
              "  color: var(--sklearn-color-fitted-level-1);\n",
              "}\n",
              "\n",
              "/* On hover */\n",
              "div.sk-estimator:hover .sk-estimator-doc-link:hover,\n",
              ".sk-estimator-doc-link:hover,\n",
              "div.sk-label-container:hover .sk-estimator-doc-link:hover,\n",
              ".sk-estimator-doc-link:hover {\n",
              "  /* unfitted */\n",
              "  background-color: var(--sklearn-color-unfitted-level-3);\n",
              "  color: var(--sklearn-color-background);\n",
              "  text-decoration: none;\n",
              "}\n",
              "\n",
              "div.sk-estimator.fitted:hover .sk-estimator-doc-link.fitted:hover,\n",
              ".sk-estimator-doc-link.fitted:hover,\n",
              "div.sk-label-container:hover .sk-estimator-doc-link.fitted:hover,\n",
              ".sk-estimator-doc-link.fitted:hover {\n",
              "  /* fitted */\n",
              "  background-color: var(--sklearn-color-fitted-level-3);\n",
              "  color: var(--sklearn-color-background);\n",
              "  text-decoration: none;\n",
              "}\n",
              "\n",
              "/* Span, style for the box shown on hovering the info icon */\n",
              ".sk-estimator-doc-link span {\n",
              "  display: none;\n",
              "  z-index: 9999;\n",
              "  position: relative;\n",
              "  font-weight: normal;\n",
              "  right: .2ex;\n",
              "  padding: .5ex;\n",
              "  margin: .5ex;\n",
              "  width: min-content;\n",
              "  min-width: 20ex;\n",
              "  max-width: 50ex;\n",
              "  color: var(--sklearn-color-text);\n",
              "  box-shadow: 2pt 2pt 4pt #999;\n",
              "  /* unfitted */\n",
              "  background: var(--sklearn-color-unfitted-level-0);\n",
              "  border: .5pt solid var(--sklearn-color-unfitted-level-3);\n",
              "}\n",
              "\n",
              ".sk-estimator-doc-link.fitted span {\n",
              "  /* fitted */\n",
              "  background: var(--sklearn-color-fitted-level-0);\n",
              "  border: var(--sklearn-color-fitted-level-3);\n",
              "}\n",
              "\n",
              ".sk-estimator-doc-link:hover span {\n",
              "  display: block;\n",
              "}\n",
              "\n",
              "/* \"?\"-specific style due to the `<a>` HTML tag */\n",
              "\n",
              "#sk-container-id-5 a.estimator_doc_link {\n",
              "  float: right;\n",
              "  font-size: 1rem;\n",
              "  line-height: 1em;\n",
              "  font-family: monospace;\n",
              "  background-color: var(--sklearn-color-background);\n",
              "  border-radius: 1rem;\n",
              "  height: 1rem;\n",
              "  width: 1rem;\n",
              "  text-decoration: none;\n",
              "  /* unfitted */\n",
              "  color: var(--sklearn-color-unfitted-level-1);\n",
              "  border: var(--sklearn-color-unfitted-level-1) 1pt solid;\n",
              "}\n",
              "\n",
              "#sk-container-id-5 a.estimator_doc_link.fitted {\n",
              "  /* fitted */\n",
              "  border: var(--sklearn-color-fitted-level-1) 1pt solid;\n",
              "  color: var(--sklearn-color-fitted-level-1);\n",
              "}\n",
              "\n",
              "/* On hover */\n",
              "#sk-container-id-5 a.estimator_doc_link:hover {\n",
              "  /* unfitted */\n",
              "  background-color: var(--sklearn-color-unfitted-level-3);\n",
              "  color: var(--sklearn-color-background);\n",
              "  text-decoration: none;\n",
              "}\n",
              "\n",
              "#sk-container-id-5 a.estimator_doc_link.fitted:hover {\n",
              "  /* fitted */\n",
              "  background-color: var(--sklearn-color-fitted-level-3);\n",
              "}\n",
              "</style><div id=\"sk-container-id-5\" class=\"sk-top-container\"><div class=\"sk-text-repr-fallback\"><pre>RandomizedSearchCV(cv=5, estimator=LogisticRegression(), n_iter=20,\n",
              "                   param_distributions={&#x27;C&#x27;: array([1.00000000e-04, 2.63665090e-04, 6.95192796e-04, 1.83298071e-03,\n",
              "       4.83293024e-03, 1.27427499e-02, 3.35981829e-02, 8.85866790e-02,\n",
              "       2.33572147e-01, 6.15848211e-01, 1.62377674e+00, 4.28133240e+00,\n",
              "       1.12883789e+01, 2.97635144e+01, 7.84759970e+01, 2.06913808e+02,\n",
              "       5.45559478e+02, 1.43844989e+03, 3.79269019e+03, 1.00000000e+04]),\n",
              "                                        &#x27;solver&#x27;: [&#x27;liblinear&#x27;]},\n",
              "                   verbose=True)</pre><b>In a Jupyter environment, please rerun this cell to show the HTML representation or trust the notebook. <br />On GitHub, the HTML representation is unable to render, please try loading this page with nbviewer.org.</b></div><div class=\"sk-container\" hidden><div class=\"sk-item sk-dashed-wrapped\"><div class=\"sk-label-container\"><div class=\"sk-label fitted sk-toggleable\"><input class=\"sk-toggleable__control sk-hidden--visually\" id=\"sk-estimator-id-13\" type=\"checkbox\" ><label for=\"sk-estimator-id-13\" class=\"sk-toggleable__label fitted sk-toggleable__label-arrow fitted\">&nbsp;&nbsp;RandomizedSearchCV<a class=\"sk-estimator-doc-link fitted\" rel=\"noreferrer\" target=\"_blank\" href=\"https://scikit-learn.org/1.4/modules/generated/sklearn.model_selection.RandomizedSearchCV.html\">?<span>Documentation for RandomizedSearchCV</span></a><span class=\"sk-estimator-doc-link fitted\">i<span>Fitted</span></span></label><div class=\"sk-toggleable__content fitted\"><pre>RandomizedSearchCV(cv=5, estimator=LogisticRegression(), n_iter=20,\n",
              "                   param_distributions={&#x27;C&#x27;: array([1.00000000e-04, 2.63665090e-04, 6.95192796e-04, 1.83298071e-03,\n",
              "       4.83293024e-03, 1.27427499e-02, 3.35981829e-02, 8.85866790e-02,\n",
              "       2.33572147e-01, 6.15848211e-01, 1.62377674e+00, 4.28133240e+00,\n",
              "       1.12883789e+01, 2.97635144e+01, 7.84759970e+01, 2.06913808e+02,\n",
              "       5.45559478e+02, 1.43844989e+03, 3.79269019e+03, 1.00000000e+04]),\n",
              "                                        &#x27;solver&#x27;: [&#x27;liblinear&#x27;]},\n",
              "                   verbose=True)</pre></div> </div></div><div class=\"sk-parallel\"><div class=\"sk-parallel-item\"><div class=\"sk-item\"><div class=\"sk-label-container\"><div class=\"sk-label fitted sk-toggleable\"><input class=\"sk-toggleable__control sk-hidden--visually\" id=\"sk-estimator-id-14\" type=\"checkbox\" ><label for=\"sk-estimator-id-14\" class=\"sk-toggleable__label fitted sk-toggleable__label-arrow fitted\">estimator: LogisticRegression</label><div class=\"sk-toggleable__content fitted\"><pre>LogisticRegression()</pre></div> </div></div><div class=\"sk-serial\"><div class=\"sk-item\"><div class=\"sk-estimator fitted sk-toggleable\"><input class=\"sk-toggleable__control sk-hidden--visually\" id=\"sk-estimator-id-15\" type=\"checkbox\" ><label for=\"sk-estimator-id-15\" class=\"sk-toggleable__label fitted sk-toggleable__label-arrow fitted\">&nbsp;LogisticRegression<a class=\"sk-estimator-doc-link fitted\" rel=\"noreferrer\" target=\"_blank\" href=\"https://scikit-learn.org/1.4/modules/generated/sklearn.linear_model.LogisticRegression.html\">?<span>Documentation for LogisticRegression</span></a></label><div class=\"sk-toggleable__content fitted\"><pre>LogisticRegression()</pre></div> </div></div></div></div></div></div></div></div></div>"
            ],
            "text/plain": [
              "RandomizedSearchCV(cv=5, estimator=LogisticRegression(), n_iter=20,\n",
              "                   param_distributions={'C': array([1.00000000e-04, 2.63665090e-04, 6.95192796e-04, 1.83298071e-03,\n",
              "       4.83293024e-03, 1.27427499e-02, 3.35981829e-02, 8.85866790e-02,\n",
              "       2.33572147e-01, 6.15848211e-01, 1.62377674e+00, 4.28133240e+00,\n",
              "       1.12883789e+01, 2.97635144e+01, 7.84759970e+01, 2.06913808e+02,\n",
              "       5.45559478e+02, 1.43844989e+03, 3.79269019e+03, 1.00000000e+04]),\n",
              "                                        'solver': ['liblinear']},\n",
              "                   verbose=True)"
            ]
          },
          "execution_count": 147,
          "metadata": {},
          "output_type": "execute_result"
        }
      ],
      "source": [
        "# Tune Logistic Regression\n",
        "\n",
        "np.random.seed(42)\n",
        "\n",
        "# Setup random hyperparameter search for logisticRegression\n",
        "rs_log_reg = RandomizedSearchCV(LogisticRegression(),\n",
        "                                param_distributions= log_reg_grid,\n",
        "                                cv=5,\n",
        "                                n_iter=20,\n",
        "                                verbose =True)\n",
        "\n",
        "# Fit random hyperparameter search model  for LogisticRegression\n",
        "rs_log_reg.fit(X_train,y_train)"
      ]
    },
    {
      "cell_type": "code",
      "execution_count": null,
      "id": "5e7b6010-12d1-4b46-b6a0-45ec370a0bcb",
      "metadata": {
        "id": "5e7b6010-12d1-4b46-b6a0-45ec370a0bcb",
        "outputId": "e0a7d9b2-9298-4cd5-dc29-32bf893bfc29"
      },
      "outputs": [
        {
          "data": {
            "text/plain": [
              "{'solver': 'liblinear', 'C': 0.23357214690901212}"
            ]
          },
          "execution_count": 148,
          "metadata": {},
          "output_type": "execute_result"
        }
      ],
      "source": [
        "rs_log_reg.best_params_"
      ]
    },
    {
      "cell_type": "code",
      "execution_count": null,
      "id": "68f43020-fdac-4f96-ab18-88fb67697dcb",
      "metadata": {
        "id": "68f43020-fdac-4f96-ab18-88fb67697dcb",
        "outputId": "7884a4e1-c27e-47ff-f392-891ca17b5fbd"
      },
      "outputs": [
        {
          "data": {
            "text/plain": [
              "0.8852459016393442"
            ]
          },
          "execution_count": 149,
          "metadata": {},
          "output_type": "execute_result"
        }
      ],
      "source": [
        "rs_log_reg.score(X_test,y_test)"
      ]
    },
    {
      "cell_type": "markdown",
      "id": "6c96b846-2624-4772-a8f6-97c8d667936d",
      "metadata": {
        "id": "6c96b846-2624-4772-a8f6-97c8d667936d"
      },
      "source": [
        "Now we've tuned LogisticRegression(), let's do the same for RandomForestClassifier()\n"
      ]
    },
    {
      "cell_type": "code",
      "execution_count": null,
      "id": "ca9f01bd-89ef-4887-ba3d-a9160b2fb9d0",
      "metadata": {
        "id": "ca9f01bd-89ef-4887-ba3d-a9160b2fb9d0",
        "outputId": "b3d36ca6-25e5-46a8-a556-6cf166c955bc"
      },
      "outputs": [
        {
          "name": "stdout",
          "output_type": "stream",
          "text": [
            "Fitting 5 folds for each of 20 candidates, totalling 100 fits\n"
          ]
        },
        {
          "data": {
            "text/html": [
              "<style>#sk-container-id-6 {\n",
              "  /* Definition of color scheme common for light and dark mode */\n",
              "  --sklearn-color-text: black;\n",
              "  --sklearn-color-line: gray;\n",
              "  /* Definition of color scheme for unfitted estimators */\n",
              "  --sklearn-color-unfitted-level-0: #fff5e6;\n",
              "  --sklearn-color-unfitted-level-1: #f6e4d2;\n",
              "  --sklearn-color-unfitted-level-2: #ffe0b3;\n",
              "  --sklearn-color-unfitted-level-3: chocolate;\n",
              "  /* Definition of color scheme for fitted estimators */\n",
              "  --sklearn-color-fitted-level-0: #f0f8ff;\n",
              "  --sklearn-color-fitted-level-1: #d4ebff;\n",
              "  --sklearn-color-fitted-level-2: #b3dbfd;\n",
              "  --sklearn-color-fitted-level-3: cornflowerblue;\n",
              "\n",
              "  /* Specific color for light theme */\n",
              "  --sklearn-color-text-on-default-background: var(--sg-text-color, var(--theme-code-foreground, var(--jp-content-font-color1, black)));\n",
              "  --sklearn-color-background: var(--sg-background-color, var(--theme-background, var(--jp-layout-color0, white)));\n",
              "  --sklearn-color-border-box: var(--sg-text-color, var(--theme-code-foreground, var(--jp-content-font-color1, black)));\n",
              "  --sklearn-color-icon: #696969;\n",
              "\n",
              "  @media (prefers-color-scheme: dark) {\n",
              "    /* Redefinition of color scheme for dark theme */\n",
              "    --sklearn-color-text-on-default-background: var(--sg-text-color, var(--theme-code-foreground, var(--jp-content-font-color1, white)));\n",
              "    --sklearn-color-background: var(--sg-background-color, var(--theme-background, var(--jp-layout-color0, #111)));\n",
              "    --sklearn-color-border-box: var(--sg-text-color, var(--theme-code-foreground, var(--jp-content-font-color1, white)));\n",
              "    --sklearn-color-icon: #878787;\n",
              "  }\n",
              "}\n",
              "\n",
              "#sk-container-id-6 {\n",
              "  color: var(--sklearn-color-text);\n",
              "}\n",
              "\n",
              "#sk-container-id-6 pre {\n",
              "  padding: 0;\n",
              "}\n",
              "\n",
              "#sk-container-id-6 input.sk-hidden--visually {\n",
              "  border: 0;\n",
              "  clip: rect(1px 1px 1px 1px);\n",
              "  clip: rect(1px, 1px, 1px, 1px);\n",
              "  height: 1px;\n",
              "  margin: -1px;\n",
              "  overflow: hidden;\n",
              "  padding: 0;\n",
              "  position: absolute;\n",
              "  width: 1px;\n",
              "}\n",
              "\n",
              "#sk-container-id-6 div.sk-dashed-wrapped {\n",
              "  border: 1px dashed var(--sklearn-color-line);\n",
              "  margin: 0 0.4em 0.5em 0.4em;\n",
              "  box-sizing: border-box;\n",
              "  padding-bottom: 0.4em;\n",
              "  background-color: var(--sklearn-color-background);\n",
              "}\n",
              "\n",
              "#sk-container-id-6 div.sk-container {\n",
              "  /* jupyter's `normalize.less` sets `[hidden] { display: none; }`\n",
              "     but bootstrap.min.css set `[hidden] { display: none !important; }`\n",
              "     so we also need the `!important` here to be able to override the\n",
              "     default hidden behavior on the sphinx rendered scikit-learn.org.\n",
              "     See: https://github.com/scikit-learn/scikit-learn/issues/21755 */\n",
              "  display: inline-block !important;\n",
              "  position: relative;\n",
              "}\n",
              "\n",
              "#sk-container-id-6 div.sk-text-repr-fallback {\n",
              "  display: none;\n",
              "}\n",
              "\n",
              "div.sk-parallel-item,\n",
              "div.sk-serial,\n",
              "div.sk-item {\n",
              "  /* draw centered vertical line to link estimators */\n",
              "  background-image: linear-gradient(var(--sklearn-color-text-on-default-background), var(--sklearn-color-text-on-default-background));\n",
              "  background-size: 2px 100%;\n",
              "  background-repeat: no-repeat;\n",
              "  background-position: center center;\n",
              "}\n",
              "\n",
              "/* Parallel-specific style estimator block */\n",
              "\n",
              "#sk-container-id-6 div.sk-parallel-item::after {\n",
              "  content: \"\";\n",
              "  width: 100%;\n",
              "  border-bottom: 2px solid var(--sklearn-color-text-on-default-background);\n",
              "  flex-grow: 1;\n",
              "}\n",
              "\n",
              "#sk-container-id-6 div.sk-parallel {\n",
              "  display: flex;\n",
              "  align-items: stretch;\n",
              "  justify-content: center;\n",
              "  background-color: var(--sklearn-color-background);\n",
              "  position: relative;\n",
              "}\n",
              "\n",
              "#sk-container-id-6 div.sk-parallel-item {\n",
              "  display: flex;\n",
              "  flex-direction: column;\n",
              "}\n",
              "\n",
              "#sk-container-id-6 div.sk-parallel-item:first-child::after {\n",
              "  align-self: flex-end;\n",
              "  width: 50%;\n",
              "}\n",
              "\n",
              "#sk-container-id-6 div.sk-parallel-item:last-child::after {\n",
              "  align-self: flex-start;\n",
              "  width: 50%;\n",
              "}\n",
              "\n",
              "#sk-container-id-6 div.sk-parallel-item:only-child::after {\n",
              "  width: 0;\n",
              "}\n",
              "\n",
              "/* Serial-specific style estimator block */\n",
              "\n",
              "#sk-container-id-6 div.sk-serial {\n",
              "  display: flex;\n",
              "  flex-direction: column;\n",
              "  align-items: center;\n",
              "  background-color: var(--sklearn-color-background);\n",
              "  padding-right: 1em;\n",
              "  padding-left: 1em;\n",
              "}\n",
              "\n",
              "\n",
              "/* Toggleable style: style used for estimator/Pipeline/ColumnTransformer box that is\n",
              "clickable and can be expanded/collapsed.\n",
              "- Pipeline and ColumnTransformer use this feature and define the default style\n",
              "- Estimators will overwrite some part of the style using the `sk-estimator` class\n",
              "*/\n",
              "\n",
              "/* Pipeline and ColumnTransformer style (default) */\n",
              "\n",
              "#sk-container-id-6 div.sk-toggleable {\n",
              "  /* Default theme specific background. It is overwritten whether we have a\n",
              "  specific estimator or a Pipeline/ColumnTransformer */\n",
              "  background-color: var(--sklearn-color-background);\n",
              "}\n",
              "\n",
              "/* Toggleable label */\n",
              "#sk-container-id-6 label.sk-toggleable__label {\n",
              "  cursor: pointer;\n",
              "  display: block;\n",
              "  width: 100%;\n",
              "  margin-bottom: 0;\n",
              "  padding: 0.5em;\n",
              "  box-sizing: border-box;\n",
              "  text-align: center;\n",
              "}\n",
              "\n",
              "#sk-container-id-6 label.sk-toggleable__label-arrow:before {\n",
              "  /* Arrow on the left of the label */\n",
              "  content: \"▸\";\n",
              "  float: left;\n",
              "  margin-right: 0.25em;\n",
              "  color: var(--sklearn-color-icon);\n",
              "}\n",
              "\n",
              "#sk-container-id-6 label.sk-toggleable__label-arrow:hover:before {\n",
              "  color: var(--sklearn-color-text);\n",
              "}\n",
              "\n",
              "/* Toggleable content - dropdown */\n",
              "\n",
              "#sk-container-id-6 div.sk-toggleable__content {\n",
              "  max-height: 0;\n",
              "  max-width: 0;\n",
              "  overflow: hidden;\n",
              "  text-align: left;\n",
              "  /* unfitted */\n",
              "  background-color: var(--sklearn-color-unfitted-level-0);\n",
              "}\n",
              "\n",
              "#sk-container-id-6 div.sk-toggleable__content.fitted {\n",
              "  /* fitted */\n",
              "  background-color: var(--sklearn-color-fitted-level-0);\n",
              "}\n",
              "\n",
              "#sk-container-id-6 div.sk-toggleable__content pre {\n",
              "  margin: 0.2em;\n",
              "  border-radius: 0.25em;\n",
              "  color: var(--sklearn-color-text);\n",
              "  /* unfitted */\n",
              "  background-color: var(--sklearn-color-unfitted-level-0);\n",
              "}\n",
              "\n",
              "#sk-container-id-6 div.sk-toggleable__content.fitted pre {\n",
              "  /* unfitted */\n",
              "  background-color: var(--sklearn-color-fitted-level-0);\n",
              "}\n",
              "\n",
              "#sk-container-id-6 input.sk-toggleable__control:checked~div.sk-toggleable__content {\n",
              "  /* Expand drop-down */\n",
              "  max-height: 200px;\n",
              "  max-width: 100%;\n",
              "  overflow: auto;\n",
              "}\n",
              "\n",
              "#sk-container-id-6 input.sk-toggleable__control:checked~label.sk-toggleable__label-arrow:before {\n",
              "  content: \"▾\";\n",
              "}\n",
              "\n",
              "/* Pipeline/ColumnTransformer-specific style */\n",
              "\n",
              "#sk-container-id-6 div.sk-label input.sk-toggleable__control:checked~label.sk-toggleable__label {\n",
              "  color: var(--sklearn-color-text);\n",
              "  background-color: var(--sklearn-color-unfitted-level-2);\n",
              "}\n",
              "\n",
              "#sk-container-id-6 div.sk-label.fitted input.sk-toggleable__control:checked~label.sk-toggleable__label {\n",
              "  background-color: var(--sklearn-color-fitted-level-2);\n",
              "}\n",
              "\n",
              "/* Estimator-specific style */\n",
              "\n",
              "/* Colorize estimator box */\n",
              "#sk-container-id-6 div.sk-estimator input.sk-toggleable__control:checked~label.sk-toggleable__label {\n",
              "  /* unfitted */\n",
              "  background-color: var(--sklearn-color-unfitted-level-2);\n",
              "}\n",
              "\n",
              "#sk-container-id-6 div.sk-estimator.fitted input.sk-toggleable__control:checked~label.sk-toggleable__label {\n",
              "  /* fitted */\n",
              "  background-color: var(--sklearn-color-fitted-level-2);\n",
              "}\n",
              "\n",
              "#sk-container-id-6 div.sk-label label.sk-toggleable__label,\n",
              "#sk-container-id-6 div.sk-label label {\n",
              "  /* The background is the default theme color */\n",
              "  color: var(--sklearn-color-text-on-default-background);\n",
              "}\n",
              "\n",
              "/* On hover, darken the color of the background */\n",
              "#sk-container-id-6 div.sk-label:hover label.sk-toggleable__label {\n",
              "  color: var(--sklearn-color-text);\n",
              "  background-color: var(--sklearn-color-unfitted-level-2);\n",
              "}\n",
              "\n",
              "/* Label box, darken color on hover, fitted */\n",
              "#sk-container-id-6 div.sk-label.fitted:hover label.sk-toggleable__label.fitted {\n",
              "  color: var(--sklearn-color-text);\n",
              "  background-color: var(--sklearn-color-fitted-level-2);\n",
              "}\n",
              "\n",
              "/* Estimator label */\n",
              "\n",
              "#sk-container-id-6 div.sk-label label {\n",
              "  font-family: monospace;\n",
              "  font-weight: bold;\n",
              "  display: inline-block;\n",
              "  line-height: 1.2em;\n",
              "}\n",
              "\n",
              "#sk-container-id-6 div.sk-label-container {\n",
              "  text-align: center;\n",
              "}\n",
              "\n",
              "/* Estimator-specific */\n",
              "#sk-container-id-6 div.sk-estimator {\n",
              "  font-family: monospace;\n",
              "  border: 1px dotted var(--sklearn-color-border-box);\n",
              "  border-radius: 0.25em;\n",
              "  box-sizing: border-box;\n",
              "  margin-bottom: 0.5em;\n",
              "  /* unfitted */\n",
              "  background-color: var(--sklearn-color-unfitted-level-0);\n",
              "}\n",
              "\n",
              "#sk-container-id-6 div.sk-estimator.fitted {\n",
              "  /* fitted */\n",
              "  background-color: var(--sklearn-color-fitted-level-0);\n",
              "}\n",
              "\n",
              "/* on hover */\n",
              "#sk-container-id-6 div.sk-estimator:hover {\n",
              "  /* unfitted */\n",
              "  background-color: var(--sklearn-color-unfitted-level-2);\n",
              "}\n",
              "\n",
              "#sk-container-id-6 div.sk-estimator.fitted:hover {\n",
              "  /* fitted */\n",
              "  background-color: var(--sklearn-color-fitted-level-2);\n",
              "}\n",
              "\n",
              "/* Specification for estimator info (e.g. \"i\" and \"?\") */\n",
              "\n",
              "/* Common style for \"i\" and \"?\" */\n",
              "\n",
              ".sk-estimator-doc-link,\n",
              "a:link.sk-estimator-doc-link,\n",
              "a:visited.sk-estimator-doc-link {\n",
              "  float: right;\n",
              "  font-size: smaller;\n",
              "  line-height: 1em;\n",
              "  font-family: monospace;\n",
              "  background-color: var(--sklearn-color-background);\n",
              "  border-radius: 1em;\n",
              "  height: 1em;\n",
              "  width: 1em;\n",
              "  text-decoration: none !important;\n",
              "  margin-left: 1ex;\n",
              "  /* unfitted */\n",
              "  border: var(--sklearn-color-unfitted-level-1) 1pt solid;\n",
              "  color: var(--sklearn-color-unfitted-level-1);\n",
              "}\n",
              "\n",
              ".sk-estimator-doc-link.fitted,\n",
              "a:link.sk-estimator-doc-link.fitted,\n",
              "a:visited.sk-estimator-doc-link.fitted {\n",
              "  /* fitted */\n",
              "  border: var(--sklearn-color-fitted-level-1) 1pt solid;\n",
              "  color: var(--sklearn-color-fitted-level-1);\n",
              "}\n",
              "\n",
              "/* On hover */\n",
              "div.sk-estimator:hover .sk-estimator-doc-link:hover,\n",
              ".sk-estimator-doc-link:hover,\n",
              "div.sk-label-container:hover .sk-estimator-doc-link:hover,\n",
              ".sk-estimator-doc-link:hover {\n",
              "  /* unfitted */\n",
              "  background-color: var(--sklearn-color-unfitted-level-3);\n",
              "  color: var(--sklearn-color-background);\n",
              "  text-decoration: none;\n",
              "}\n",
              "\n",
              "div.sk-estimator.fitted:hover .sk-estimator-doc-link.fitted:hover,\n",
              ".sk-estimator-doc-link.fitted:hover,\n",
              "div.sk-label-container:hover .sk-estimator-doc-link.fitted:hover,\n",
              ".sk-estimator-doc-link.fitted:hover {\n",
              "  /* fitted */\n",
              "  background-color: var(--sklearn-color-fitted-level-3);\n",
              "  color: var(--sklearn-color-background);\n",
              "  text-decoration: none;\n",
              "}\n",
              "\n",
              "/* Span, style for the box shown on hovering the info icon */\n",
              ".sk-estimator-doc-link span {\n",
              "  display: none;\n",
              "  z-index: 9999;\n",
              "  position: relative;\n",
              "  font-weight: normal;\n",
              "  right: .2ex;\n",
              "  padding: .5ex;\n",
              "  margin: .5ex;\n",
              "  width: min-content;\n",
              "  min-width: 20ex;\n",
              "  max-width: 50ex;\n",
              "  color: var(--sklearn-color-text);\n",
              "  box-shadow: 2pt 2pt 4pt #999;\n",
              "  /* unfitted */\n",
              "  background: var(--sklearn-color-unfitted-level-0);\n",
              "  border: .5pt solid var(--sklearn-color-unfitted-level-3);\n",
              "}\n",
              "\n",
              ".sk-estimator-doc-link.fitted span {\n",
              "  /* fitted */\n",
              "  background: var(--sklearn-color-fitted-level-0);\n",
              "  border: var(--sklearn-color-fitted-level-3);\n",
              "}\n",
              "\n",
              ".sk-estimator-doc-link:hover span {\n",
              "  display: block;\n",
              "}\n",
              "\n",
              "/* \"?\"-specific style due to the `<a>` HTML tag */\n",
              "\n",
              "#sk-container-id-6 a.estimator_doc_link {\n",
              "  float: right;\n",
              "  font-size: 1rem;\n",
              "  line-height: 1em;\n",
              "  font-family: monospace;\n",
              "  background-color: var(--sklearn-color-background);\n",
              "  border-radius: 1rem;\n",
              "  height: 1rem;\n",
              "  width: 1rem;\n",
              "  text-decoration: none;\n",
              "  /* unfitted */\n",
              "  color: var(--sklearn-color-unfitted-level-1);\n",
              "  border: var(--sklearn-color-unfitted-level-1) 1pt solid;\n",
              "}\n",
              "\n",
              "#sk-container-id-6 a.estimator_doc_link.fitted {\n",
              "  /* fitted */\n",
              "  border: var(--sklearn-color-fitted-level-1) 1pt solid;\n",
              "  color: var(--sklearn-color-fitted-level-1);\n",
              "}\n",
              "\n",
              "/* On hover */\n",
              "#sk-container-id-6 a.estimator_doc_link:hover {\n",
              "  /* unfitted */\n",
              "  background-color: var(--sklearn-color-unfitted-level-3);\n",
              "  color: var(--sklearn-color-background);\n",
              "  text-decoration: none;\n",
              "}\n",
              "\n",
              "#sk-container-id-6 a.estimator_doc_link.fitted:hover {\n",
              "  /* fitted */\n",
              "  background-color: var(--sklearn-color-fitted-level-3);\n",
              "}\n",
              "</style><div id=\"sk-container-id-6\" class=\"sk-top-container\"><div class=\"sk-text-repr-fallback\"><pre>RandomizedSearchCV(cv=5, estimator=RandomForestClassifier(), n_iter=20,\n",
              "                   param_distributions={&#x27;max_depth&#x27;: [None, 3, 5, 10],\n",
              "                                        &#x27;min_samples_leaf&#x27;: array([ 1,  3,  5,  7,  9, 11, 13, 15, 17, 19]),\n",
              "                                        &#x27;min_samples_split&#x27;: array([ 2,  4,  6,  8, 10, 12, 14, 16, 18]),\n",
              "                                        &#x27;n_estimators&#x27;: array([ 10,  60, 110, 160, 210, 260, 310, 360, 410, 460, 510, 560, 610,\n",
              "       660, 710, 760, 810, 860, 910, 960])},\n",
              "                   verbose=True)</pre><b>In a Jupyter environment, please rerun this cell to show the HTML representation or trust the notebook. <br />On GitHub, the HTML representation is unable to render, please try loading this page with nbviewer.org.</b></div><div class=\"sk-container\" hidden><div class=\"sk-item sk-dashed-wrapped\"><div class=\"sk-label-container\"><div class=\"sk-label fitted sk-toggleable\"><input class=\"sk-toggleable__control sk-hidden--visually\" id=\"sk-estimator-id-16\" type=\"checkbox\" ><label for=\"sk-estimator-id-16\" class=\"sk-toggleable__label fitted sk-toggleable__label-arrow fitted\">&nbsp;&nbsp;RandomizedSearchCV<a class=\"sk-estimator-doc-link fitted\" rel=\"noreferrer\" target=\"_blank\" href=\"https://scikit-learn.org/1.4/modules/generated/sklearn.model_selection.RandomizedSearchCV.html\">?<span>Documentation for RandomizedSearchCV</span></a><span class=\"sk-estimator-doc-link fitted\">i<span>Fitted</span></span></label><div class=\"sk-toggleable__content fitted\"><pre>RandomizedSearchCV(cv=5, estimator=RandomForestClassifier(), n_iter=20,\n",
              "                   param_distributions={&#x27;max_depth&#x27;: [None, 3, 5, 10],\n",
              "                                        &#x27;min_samples_leaf&#x27;: array([ 1,  3,  5,  7,  9, 11, 13, 15, 17, 19]),\n",
              "                                        &#x27;min_samples_split&#x27;: array([ 2,  4,  6,  8, 10, 12, 14, 16, 18]),\n",
              "                                        &#x27;n_estimators&#x27;: array([ 10,  60, 110, 160, 210, 260, 310, 360, 410, 460, 510, 560, 610,\n",
              "       660, 710, 760, 810, 860, 910, 960])},\n",
              "                   verbose=True)</pre></div> </div></div><div class=\"sk-parallel\"><div class=\"sk-parallel-item\"><div class=\"sk-item\"><div class=\"sk-label-container\"><div class=\"sk-label fitted sk-toggleable\"><input class=\"sk-toggleable__control sk-hidden--visually\" id=\"sk-estimator-id-17\" type=\"checkbox\" ><label for=\"sk-estimator-id-17\" class=\"sk-toggleable__label fitted sk-toggleable__label-arrow fitted\">estimator: RandomForestClassifier</label><div class=\"sk-toggleable__content fitted\"><pre>RandomForestClassifier()</pre></div> </div></div><div class=\"sk-serial\"><div class=\"sk-item\"><div class=\"sk-estimator fitted sk-toggleable\"><input class=\"sk-toggleable__control sk-hidden--visually\" id=\"sk-estimator-id-18\" type=\"checkbox\" ><label for=\"sk-estimator-id-18\" class=\"sk-toggleable__label fitted sk-toggleable__label-arrow fitted\">&nbsp;RandomForestClassifier<a class=\"sk-estimator-doc-link fitted\" rel=\"noreferrer\" target=\"_blank\" href=\"https://scikit-learn.org/1.4/modules/generated/sklearn.ensemble.RandomForestClassifier.html\">?<span>Documentation for RandomForestClassifier</span></a></label><div class=\"sk-toggleable__content fitted\"><pre>RandomForestClassifier()</pre></div> </div></div></div></div></div></div></div></div></div>"
            ],
            "text/plain": [
              "RandomizedSearchCV(cv=5, estimator=RandomForestClassifier(), n_iter=20,\n",
              "                   param_distributions={'max_depth': [None, 3, 5, 10],\n",
              "                                        'min_samples_leaf': array([ 1,  3,  5,  7,  9, 11, 13, 15, 17, 19]),\n",
              "                                        'min_samples_split': array([ 2,  4,  6,  8, 10, 12, 14, 16, 18]),\n",
              "                                        'n_estimators': array([ 10,  60, 110, 160, 210, 260, 310, 360, 410, 460, 510, 560, 610,\n",
              "       660, 710, 760, 810, 860, 910, 960])},\n",
              "                   verbose=True)"
            ]
          },
          "execution_count": 150,
          "metadata": {},
          "output_type": "execute_result"
        }
      ],
      "source": [
        "# Setup Random Seed\n",
        "np.random.seed(42)\n",
        "\n",
        "# Setup random Hyperparameter search for RandomForestClassifier\n",
        "rs_rf =  RandomizedSearchCV(RandomForestClassifier(),\n",
        "                            param_distributions=rf_grid,\n",
        "                            cv=5,\n",
        "                            n_iter=20,\n",
        "                           verbose=True)\n",
        "# Fit random hyperparamter search model for RandomForestClassifier()\n",
        "rs_rf.fit(X_train,y_train)"
      ]
    },
    {
      "cell_type": "code",
      "execution_count": null,
      "id": "8b74f5c9-6985-4a95-b04d-4bc2abbb4560",
      "metadata": {
        "id": "8b74f5c9-6985-4a95-b04d-4bc2abbb4560",
        "outputId": "a6c28775-702c-4c1b-d0a9-dde0cdf28869"
      },
      "outputs": [
        {
          "data": {
            "text/plain": [
              "{'n_estimators': 210,\n",
              " 'min_samples_split': 4,\n",
              " 'min_samples_leaf': 19,\n",
              " 'max_depth': 3}"
            ]
          },
          "execution_count": 151,
          "metadata": {},
          "output_type": "execute_result"
        }
      ],
      "source": [
        "# Find the best hyperparameters\n",
        "rs_rf.best_params_"
      ]
    },
    {
      "cell_type": "code",
      "execution_count": null,
      "id": "cd88907a-3a72-4e57-9b57-30aad6d504eb",
      "metadata": {
        "id": "cd88907a-3a72-4e57-9b57-30aad6d504eb",
        "outputId": "ec115832-e7f6-4ebb-f96f-7e97a99d70ef"
      },
      "outputs": [
        {
          "data": {
            "text/plain": [
              "0.8688524590163934"
            ]
          },
          "execution_count": 152,
          "metadata": {},
          "output_type": "execute_result"
        }
      ],
      "source": [
        "# Evaluate the randomized search RandomForestClassifier\n",
        "rs_rf.score(X_test,y_test)"
      ]
    },
    {
      "cell_type": "markdown",
      "id": "49526218-8623-4465-9c10-2879b2ab17e7",
      "metadata": {
        "id": "49526218-8623-4465-9c10-2879b2ab17e7"
      },
      "source": [
        "## Hyperparameter tuning with GridSearchCV\n",
        "\n",
        "Since our LogisticRegression model provides the best score so far, we'll try and improve them again using GridSearchCV......"
      ]
    },
    {
      "cell_type": "code",
      "execution_count": null,
      "id": "90aced79-0512-49b6-b9de-529beacff9e7",
      "metadata": {
        "id": "90aced79-0512-49b6-b9de-529beacff9e7",
        "outputId": "2e9ece1c-33c5-43fb-cda0-3d0f0a2aa6c1"
      },
      "outputs": [
        {
          "name": "stdout",
          "output_type": "stream",
          "text": [
            "Fitting 5 folds for each of 30 candidates, totalling 150 fits\n"
          ]
        }
      ],
      "source": [
        "# Different hyperparameter for our LogisticRegression model\n",
        "log_reg_grid = {\"C\":np.logspace(-4,4,30),\n",
        "               \"solver\":[\"liblinear\"]}\n",
        "\n",
        "# Setup grid hyperparameter search for LogisticRegression\n",
        "gs_log_reg = GridSearchCV(LogisticRegression(),\n",
        "                         param_grid= log_reg_grid,\n",
        "                         cv=5,\n",
        "                         verbose=True)\n",
        "\n",
        "# Fit grid hyperparameter search model\n",
        "gs_log_reg.fit(X_train,y_train);"
      ]
    },
    {
      "cell_type": "code",
      "execution_count": null,
      "id": "2ac16b2f-39a9-480b-8b65-2f608bf8a6ff",
      "metadata": {
        "id": "2ac16b2f-39a9-480b-8b65-2f608bf8a6ff",
        "outputId": "c0a87ac7-574c-4018-dfa8-b90ee3fe0747"
      },
      "outputs": [
        {
          "data": {
            "text/plain": [
              "{'C': 0.20433597178569418, 'solver': 'liblinear'}"
            ]
          },
          "execution_count": 154,
          "metadata": {},
          "output_type": "execute_result"
        }
      ],
      "source": [
        "# Check the best hyperparameter\n",
        "gs_log_reg.best_params_"
      ]
    },
    {
      "cell_type": "code",
      "execution_count": null,
      "id": "06a85708-7a67-434b-9483-f140f4a980be",
      "metadata": {
        "id": "06a85708-7a67-434b-9483-f140f4a980be",
        "outputId": "c0178a3b-ac9b-401b-a951-7c6284086887"
      },
      "outputs": [
        {
          "data": {
            "text/plain": [
              "0.8852459016393442"
            ]
          },
          "execution_count": 155,
          "metadata": {},
          "output_type": "execute_result"
        }
      ],
      "source": [
        "# Evaluate the grid search LogisticRegression model\n",
        "gs_log_reg.score(X_test,y_test)"
      ]
    },
    {
      "cell_type": "markdown",
      "id": "0195361f-8927-4975-8f4e-d801bdeb22d7",
      "metadata": {
        "id": "0195361f-8927-4975-8f4e-d801bdeb22d7"
      },
      "source": [
        "## Evaluting our tuned machine learning classifier, beyond accuracy\n",
        "\n",
        "*  ROC curve and AUC score\n",
        "*  Confusion matrix\n",
        "*  Classification report\n",
        "*  precision\n",
        "*  Recall\n",
        "*  f1_score\n"
      ]
    },
    {
      "cell_type": "markdown",
      "id": "e25f9894-b588-4f31-b7a9-fbaf6bd2fd84",
      "metadata": {
        "id": "e25f9894-b588-4f31-b7a9-fbaf6bd2fd84"
      },
      "source": [
        "To make comparisons and evalute our trained model, first we need to make predictions."
      ]
    },
    {
      "cell_type": "code",
      "execution_count": null,
      "id": "260ec3f4-194f-4af2-ae96-4017a028c68a",
      "metadata": {
        "id": "260ec3f4-194f-4af2-ae96-4017a028c68a"
      },
      "outputs": [],
      "source": [
        "# Make predictions with tuned model\n",
        "y_preds = gs_log_reg.predict(X_test)"
      ]
    },
    {
      "cell_type": "code",
      "execution_count": null,
      "id": "72ab1a1a-fd49-4a98-82d3-f60c3805a393",
      "metadata": {
        "id": "72ab1a1a-fd49-4a98-82d3-f60c3805a393",
        "outputId": "57ff1c68-b6dd-42c5-b920-13a4fafceb68"
      },
      "outputs": [
        {
          "data": {
            "text/plain": [
              "<sklearn.metrics._plot.roc_curve.RocCurveDisplay at 0x212fee946b0>"
            ]
          },
          "execution_count": 157,
          "metadata": {},
          "output_type": "execute_result"
        },
        {
          "data": {
            "image/png": "[encoded data removed]",
            "text/plain": [
              "<Figure size 640x480 with 1 Axes>"
            ]
          },
          "metadata": {},
          "output_type": "display_data"
        }
      ],
      "source": [
        "# Plot ROC curve and calculate and caculate AUC mertics\n",
        "RocCurveDisplay.from_estimator(gs_log_reg,X_test,y_test)\n"
      ]
    },
    {
      "cell_type": "code",
      "execution_count": null,
      "id": "10c0a70c-b0e2-4326-bca3-508f02d4adfe",
      "metadata": {
        "id": "10c0a70c-b0e2-4326-bca3-508f02d4adfe",
        "outputId": "c5b2e05d-686e-4514-d8f3-b9214a47bca1"
      },
      "outputs": [
        {
          "name": "stdout",
          "output_type": "stream",
          "text": [
            "[[25  4]\n",
            " [ 3 29]]\n"
          ]
        }
      ],
      "source": [
        "# Confusion matrix\n",
        "print(confusion_matrix(y_test,y_preds))"
      ]
    },
    {
      "cell_type": "code",
      "execution_count": null,
      "id": "6ad882d5-9945-4a98-98f9-19b5e5b34dc7",
      "metadata": {
        "id": "6ad882d5-9945-4a98-98f9-19b5e5b34dc7",
        "outputId": "03e47dba-ed56-49c5-cf2b-11ee9da1ad14"
      },
      "outputs": [
        {
          "data": {
            "image/png": "[encoded data removed]",
            "text/plain": [
              "<Figure size 300x300 with 1 Axes>"
            ]
          },
          "metadata": {},
          "output_type": "display_data"
        }
      ],
      "source": [
        "sns.set_theme(font_scale=1.5)\n",
        "\n",
        "\n",
        "def plot_conf_mat(y_test,y_preds):\n",
        "    \"\"\"\n",
        "    PLots a nice looking confusion matrix using Seaborn's heatmap()\n",
        "    \"\"\"\n",
        "    fig,ax = plt.subplots(figsize=(3,3))\n",
        "    ax= sns.heatmap(confusion_matrix(y_test,y_preds),\n",
        "                    annot = True,\n",
        "                   cbar = False)\n",
        "    plt.xlabel(\"Predicted label\")\n",
        "    plt.ylabel(\"True label\")\n",
        "\n",
        "plot_conf_mat(y_test,y_preds)"
      ]
    },
    {
      "cell_type": "code",
      "execution_count": null,
      "id": "061d8e73-6d6d-47a5-9fc9-dcb91a15cd59",
      "metadata": {
        "id": "061d8e73-6d6d-47a5-9fc9-dcb91a15cd59",
        "outputId": "a372c306-1c04-46c7-92b5-07405696b911"
      },
      "outputs": [
        {
          "data": {
            "image/png": "[encoded data removed]",
            "text/plain": [
              "<Figure size 640x480 with 2 Axes>"
            ]
          },
          "metadata": {},
          "output_type": "display_data"
        }
      ],
      "source": [
        "cm = confusion_matrix(y_test, y_preds)\n",
        "\n",
        "disp = ConfusionMatrixDisplay(confusion_matrix=cm,\n",
        "                              display_labels=[0,1])\n",
        "disp.plot()\n",
        "plt.show()\n"
      ]
    },
    {
      "cell_type": "markdown",
      "id": "1ee97d36-ea07-42a2-bdc8-19bbfbda8b37",
      "metadata": {
        "id": "1ee97d36-ea07-42a2-bdc8-19bbfbda8b37"
      },
      "source": [
        "Let's get Classification report as well as cross-validation precision,recall,f1 score"
      ]
    },
    {
      "cell_type": "code",
      "execution_count": null,
      "id": "20e18646-b9ef-49e1-b6f3-e7b5af15d618",
      "metadata": {
        "id": "20e18646-b9ef-49e1-b6f3-e7b5af15d618",
        "outputId": "aefeffc7-b741-470a-8834-aa7c22ec32f3"
      },
      "outputs": [
        {
          "name": "stdout",
          "output_type": "stream",
          "text": [
            "              precision    recall  f1-score   support\n",
            "\n",
            "           0       0.89      0.86      0.88        29\n",
            "           1       0.88      0.91      0.89        32\n",
            "\n",
            "    accuracy                           0.89        61\n",
            "   macro avg       0.89      0.88      0.88        61\n",
            "weighted avg       0.89      0.89      0.89        61\n",
            "\n"
          ]
        }
      ],
      "source": [
        "print(classification_report(y_test,y_preds))"
      ]
    },
    {
      "cell_type": "markdown",
      "id": "32403542-8ff8-4eb5-b3c1-df41e4af3c78",
      "metadata": {
        "id": "32403542-8ff8-4eb5-b3c1-df41e4af3c78"
      },
      "source": [
        "### Calculate evaluation metrics using cross validation"
      ]
    },
    {
      "cell_type": "code",
      "execution_count": null,
      "id": "018404e6-d36f-4793-bccf-40cc77c6ae89",
      "metadata": {
        "id": "018404e6-d36f-4793-bccf-40cc77c6ae89",
        "outputId": "e1a10496-74cf-4ddc-e6b2-a75e48e3eaa5"
      },
      "outputs": [
        {
          "data": {
            "text/plain": [
              "{'C': 0.20433597178569418, 'solver': 'liblinear'}"
            ]
          },
          "execution_count": 162,
          "metadata": {},
          "output_type": "execute_result"
        }
      ],
      "source": [
        "# Check best hyperparameters\n",
        "gs_log_reg.best_params_\n"
      ]
    },
    {
      "cell_type": "code",
      "execution_count": null,
      "id": "6ad29d6c-bd63-4224-83d5-2bcae790308b",
      "metadata": {
        "id": "6ad29d6c-bd63-4224-83d5-2bcae790308b"
      },
      "outputs": [],
      "source": [
        "# create a new classifier with best parameters\n",
        "clf = LogisticRegression(C= 0.20433597178569418, solver= 'liblinear')"
      ]
    },
    {
      "cell_type": "code",
      "execution_count": null,
      "id": "c8ceeec5-c0ae-4c0a-8f65-9fb744bbf50b",
      "metadata": {
        "id": "c8ceeec5-c0ae-4c0a-8f65-9fb744bbf50b",
        "outputId": "433d5445-b42c-4553-cd5e-11fffc766c30"
      },
      "outputs": [
        {
          "data": {
            "text/plain": [
              "array([0.81967213, 0.90163934, 0.86885246, 0.88333333, 0.75      ])"
            ]
          },
          "execution_count": 164,
          "metadata": {},
          "output_type": "execute_result"
        }
      ],
      "source": [
        "# Cross-validation accuracy\n",
        "cv_acc = cross_val_score(clf,X,y,cv=5,scoring=\"accuracy\")\n",
        "cv_acc"
      ]
    },
    {
      "cell_type": "code",
      "execution_count": null,
      "id": "5af18a79-f1f2-4982-96c3-454e7bdf2eb1",
      "metadata": {
        "id": "5af18a79-f1f2-4982-96c3-454e7bdf2eb1",
        "outputId": "276dcb88-d2df-4457-b893-d9289b5a9656"
      },
      "outputs": [
        {
          "data": {
            "text/plain": [
              "0.8446994535519124"
            ]
          },
          "execution_count": 165,
          "metadata": {},
          "output_type": "execute_result"
        }
      ],
      "source": [
        "cv_acc = np.mean(cv_acc)\n",
        "cv_acc"
      ]
    },
    {
      "cell_type": "code",
      "execution_count": null,
      "id": "37e21019-2cb6-4da6-b539-5f1ba72cd51f",
      "metadata": {
        "id": "37e21019-2cb6-4da6-b539-5f1ba72cd51f",
        "outputId": "697e036a-6dd5-4f05-8976-f552f3e25db9"
      },
      "outputs": [
        {
          "data": {
            "text/plain": [
              "0.8207936507936507"
            ]
          },
          "execution_count": 166,
          "metadata": {},
          "output_type": "execute_result"
        }
      ],
      "source": [
        "# Cross-validated precision\n",
        "cv_precision = cross_val_score(clf,X,y,cv=5,scoring=\"precision\")\n",
        "cv_precision\n",
        "cv_precision = np.mean(cv_precision)\n",
        "cv_precision"
      ]
    },
    {
      "cell_type": "code",
      "execution_count": null,
      "id": "78da1893-2a66-4767-b5b3-46817580e7b0",
      "metadata": {
        "id": "78da1893-2a66-4767-b5b3-46817580e7b0",
        "outputId": "d576238a-620c-419e-a68a-47501826ed99"
      },
      "outputs": [
        {
          "data": {
            "text/plain": [
              "0.9212121212121213"
            ]
          },
          "execution_count": 167,
          "metadata": {},
          "output_type": "execute_result"
        }
      ],
      "source": [
        "# Cross-validated recall\n",
        "cv_recall = cross_val_score(clf,X,y,cv=5,scoring=\"recall\")\n",
        "cv_recall\n",
        "cv_recall= np.mean(cv_recall)\n",
        "cv_recall"
      ]
    },
    {
      "cell_type": "code",
      "execution_count": null,
      "id": "01f93d87-f0ea-4fcd-afe1-bfed8d077846",
      "metadata": {
        "id": "01f93d87-f0ea-4fcd-afe1-bfed8d077846",
        "outputId": "ec341f9d-245d-471e-f246-794ba8619ba3"
      },
      "outputs": [
        {
          "data": {
            "text/plain": [
              "0.8673007976269721"
            ]
          },
          "execution_count": 168,
          "metadata": {},
          "output_type": "execute_result"
        }
      ],
      "source": [
        "# Cross-validated f1-score\n",
        "cv_f1 = cross_val_score(clf,X,y,cv=5,scoring=\"f1\")\n",
        "cv_f1\n",
        "cv_f1= np.mean(cv_f1)\n",
        "cv_f1"
      ]
    },
    {
      "cell_type": "code",
      "execution_count": null,
      "id": "d4895da4-192b-4fc3-b591-86245fda6e5e",
      "metadata": {
        "id": "d4895da4-192b-4fc3-b591-86245fda6e5e",
        "outputId": "8e9c057f-2c66-48ae-f476-fe723e700a43"
      },
      "outputs": [
        {
          "data": {
            "text/plain": [
              "<Axes: title={'center': 'Cross-validated classification metrics'}>"
            ]
          },
          "execution_count": 169,
          "metadata": {},
          "output_type": "execute_result"
        },
        {
          "data": {
            "image/png": "[encoded data removed]",
            "text/plain": [
              "<Figure size 640x480 with 1 Axes>"
            ]
          },
          "metadata": {},
          "output_type": "display_data"
        }
      ],
      "source": [
        "# Visualize cross-validated metrics\n",
        "cv_metrics = pd.DataFrame({\"Accuracy\":cv_acc,\n",
        "                          \"Precision\":cv_precision,\n",
        "                          \"Recall\":cv_recall,\n",
        "                          \"F1\":cv_f1},\n",
        "                         index=[0])\n",
        "cv_metrics.T.plot.bar(title=\"Cross-validated classification metrics\",\n",
        "                     legend = False)"
      ]
    },
    {
      "cell_type": "markdown",
      "id": "9280d112-b785-4f0c-84e1-d74a83bcde52",
      "metadata": {
        "id": "9280d112-b785-4f0c-84e1-d74a83bcde52"
      },
      "source": [
        "### Feature Importance\n",
        "\n",
        "Feature importance is another as asking ,\"which features contributed most to the outcomes of modl and how the contribute?\"\n",
        "\n",
        "Finding feature importance is different for each machine learning model."
      ]
    },
    {
      "cell_type": "markdown",
      "id": "ace60ee5-89b8-46b8-8530-0863ad6b0c6e",
      "metadata": {
        "id": "ace60ee5-89b8-46b8-8530-0863ad6b0c6e"
      },
      "source": [
        "Let's find the feature importance for our LogisticRegression model..."
      ]
    },
    {
      "cell_type": "code",
      "execution_count": null,
      "id": "e157bcfe-05d9-4aff-9934-d459d51823ed",
      "metadata": {
        "id": "e157bcfe-05d9-4aff-9934-d459d51823ed",
        "outputId": "17b92888-105b-4ee6-d114-47785e9669e9"
      },
      "outputs": [
        {
          "data": {
            "text/html": [
              "<div>\n",
              "<style scoped>\n",
              "    .dataframe tbody tr th:only-of-type {\n",
              "        vertical-align: middle;\n",
              "    }\n",
              "\n",
              "    .dataframe tbody tr th {\n",
              "        vertical-align: top;\n",
              "    }\n",
              "\n",
              "    .dataframe thead th {\n",
              "        text-align: right;\n",
              "    }\n",
              "</style>\n",
              "<table border=\"1\" class=\"dataframe\">\n",
              "  <thead>\n",
              "    <tr style=\"text-align: right;\">\n",
              "      <th></th>\n",
              "      <th>age</th>\n",
              "      <th>sex</th>\n",
              "      <th>cp</th>\n",
              "      <th>trestbps</th>\n",
              "      <th>chol</th>\n",
              "      <th>fbs</th>\n",
              "      <th>restecg</th>\n",
              "      <th>thalach</th>\n",
              "      <th>exang</th>\n",
              "      <th>oldpeak</th>\n",
              "      <th>slope</th>\n",
              "      <th>ca</th>\n",
              "      <th>thal</th>\n",
              "      <th>target</th>\n",
              "    </tr>\n",
              "  </thead>\n",
              "  <tbody>\n",
              "    <tr>\n",
              "      <th>0</th>\n",
              "      <td>63</td>\n",
              "      <td>1</td>\n",
              "      <td>3</td>\n",
              "      <td>145</td>\n",
              "      <td>233</td>\n",
              "      <td>1</td>\n",
              "      <td>0</td>\n",
              "      <td>150</td>\n",
              "      <td>0</td>\n",
              "      <td>2.3</td>\n",
              "      <td>0</td>\n",
              "      <td>0</td>\n",
              "      <td>1</td>\n",
              "      <td>1</td>\n",
              "    </tr>\n",
              "    <tr>\n",
              "      <th>1</th>\n",
              "      <td>37</td>\n",
              "      <td>1</td>\n",
              "      <td>2</td>\n",
              "      <td>130</td>\n",
              "      <td>250</td>\n",
              "      <td>0</td>\n",
              "      <td>1</td>\n",
              "      <td>187</td>\n",
              "      <td>0</td>\n",
              "      <td>3.5</td>\n",
              "      <td>0</td>\n",
              "      <td>0</td>\n",
              "      <td>2</td>\n",
              "      <td>1</td>\n",
              "    </tr>\n",
              "    <tr>\n",
              "      <th>2</th>\n",
              "      <td>41</td>\n",
              "      <td>0</td>\n",
              "      <td>1</td>\n",
              "      <td>130</td>\n",
              "      <td>204</td>\n",
              "      <td>0</td>\n",
              "      <td>0</td>\n",
              "      <td>172</td>\n",
              "      <td>0</td>\n",
              "      <td>1.4</td>\n",
              "      <td>2</td>\n",
              "      <td>0</td>\n",
              "      <td>2</td>\n",
              "      <td>1</td>\n",
              "    </tr>\n",
              "    <tr>\n",
              "      <th>3</th>\n",
              "      <td>56</td>\n",
              "      <td>1</td>\n",
              "      <td>1</td>\n",
              "      <td>120</td>\n",
              "      <td>236</td>\n",
              "      <td>0</td>\n",
              "      <td>1</td>\n",
              "      <td>178</td>\n",
              "      <td>0</td>\n",
              "      <td>0.8</td>\n",
              "      <td>2</td>\n",
              "      <td>0</td>\n",
              "      <td>2</td>\n",
              "      <td>1</td>\n",
              "    </tr>\n",
              "    <tr>\n",
              "      <th>4</th>\n",
              "      <td>57</td>\n",
              "      <td>0</td>\n",
              "      <td>0</td>\n",
              "      <td>120</td>\n",
              "      <td>354</td>\n",
              "      <td>0</td>\n",
              "      <td>1</td>\n",
              "      <td>163</td>\n",
              "      <td>1</td>\n",
              "      <td>0.6</td>\n",
              "      <td>2</td>\n",
              "      <td>0</td>\n",
              "      <td>2</td>\n",
              "      <td>1</td>\n",
              "    </tr>\n",
              "  </tbody>\n",
              "</table>\n",
              "</div>"
            ],
            "text/plain": [
              "   age  sex  cp  trestbps  chol  fbs  restecg  thalach  exang  oldpeak  slope  \\\n",
              "0   63    1   3       145   233    1        0      150      0      2.3      0   \n",
              "1   37    1   2       130   250    0        1      187      0      3.5      0   \n",
              "2   41    0   1       130   204    0        0      172      0      1.4      2   \n",
              "3   56    1   1       120   236    0        1      178      0      0.8      2   \n",
              "4   57    0   0       120   354    0        1      163      1      0.6      2   \n",
              "\n",
              "   ca  thal  target  \n",
              "0   0     1       1  \n",
              "1   0     2       1  \n",
              "2   0     2       1  \n",
              "3   0     2       1  \n",
              "4   0     2       1  "
            ]
          },
          "execution_count": 170,
          "metadata": {},
          "output_type": "execute_result"
        }
      ],
      "source": [
        "df.head()"
      ]
    },
    {
      "cell_type": "code",
      "execution_count": null,
      "id": "6fe537d9-22b2-44fb-ad82-19122eadc4f5",
      "metadata": {
        "id": "6fe537d9-22b2-44fb-ad82-19122eadc4f5"
      },
      "outputs": [],
      "source": [
        "# Fit an instance of LogisticRegression\n",
        "clf = LogisticRegression(C=0.20433597178569418,solver=\"liblinear\")\n",
        "clf.fit(X_train,y_train);"
      ]
    },
    {
      "cell_type": "code",
      "execution_count": null,
      "id": "636da0e9-78fe-4c1e-9076-21e55a6178b4",
      "metadata": {
        "id": "636da0e9-78fe-4c1e-9076-21e55a6178b4",
        "outputId": "005e891a-445e-4545-acd5-39eb2fe7c59b"
      },
      "outputs": [
        {
          "data": {
            "text/plain": [
              "array([[ 0.00316728, -0.86044652,  0.6606704 , -0.01156993, -0.00166375,\n",
              "         0.04386107,  0.31275848,  0.02459362, -0.60413081, -0.56862803,\n",
              "         0.45051628, -0.63609898, -0.67663373]])"
            ]
          },
          "execution_count": 172,
          "metadata": {},
          "output_type": "execute_result"
        }
      ],
      "source": [
        "# Check coef_\n",
        "clf.coef_"
      ]
    },
    {
      "cell_type": "code",
      "execution_count": null,
      "id": "b609b14e-2467-4b33-bcb9-bf49c6721542",
      "metadata": {
        "id": "b609b14e-2467-4b33-bcb9-bf49c6721542",
        "outputId": "36d7b766-8044-47f2-b21a-0194d0eb054f"
      },
      "outputs": [
        {
          "data": {
            "text/plain": [
              "{'age': 0.0031672806268220445,\n",
              " 'sex': -0.8604465226286001,\n",
              " 'cp': 0.6606703996492814,\n",
              " 'trestbps': -0.011569930743501303,\n",
              " 'chol': -0.001663745833540806,\n",
              " 'fbs': 0.043861067871676124,\n",
              " 'restecg': 0.3127584791782968,\n",
              " 'thalach': 0.02459361509185037,\n",
              " 'exang': -0.6041308102637141,\n",
              " 'oldpeak': -0.5686280255489925,\n",
              " 'slope': 0.4505162810238786,\n",
              " 'ca': -0.6360989756865822,\n",
              " 'thal': -0.67663372723561}"
            ]
          },
          "execution_count": 173,
          "metadata": {},
          "output_type": "execute_result"
        }
      ],
      "source": [
        "# Match coef's of features to columns\n",
        "feature_dict = dict(zip(df.columns,list(clf.coef_[0])))\n",
        "feature_dict"
      ]
    },
    {
      "cell_type": "code",
      "execution_count": null,
      "id": "319b1ae6-75b1-4793-98d3-4382794e03d9",
      "metadata": {
        "id": "319b1ae6-75b1-4793-98d3-4382794e03d9",
        "outputId": "92e6d658-d467-486a-a92a-dd8b671f3408"
      },
      "outputs": [
        {
          "data": {
            "text/plain": [
              "<Axes: title={'center': 'Feature Importance'}>"
            ]
          },
          "execution_count": 174,
          "metadata": {},
          "output_type": "execute_result"
        },
        {
          "data": {
            "image/png": "[encoded data removed]",
            "text/plain": [
              "<Figure size 640x480 with 1 Axes>"
            ]
          },
          "metadata": {},
          "output_type": "display_data"
        }
      ],
      "source": [
        "# Visualize feaature importance\n",
        "feature_df =  pd.DataFrame(feature_dict,index=[0])\n",
        "feature_df.T.plot.bar(title=\"Feature Importance\",legend=False)"
      ]
    },
    {
      "cell_type": "code",
      "execution_count": null,
      "id": "82fbcf5a-591a-4a2d-b3e8-9ddaf173c254",
      "metadata": {
        "id": "82fbcf5a-591a-4a2d-b3e8-9ddaf173c254"
      },
      "outputs": [],
      "source": []
    }
  ],
  "metadata": {
    "kernelspec": {
      "display_name": "Python 3 (ipykernel)",
      "language": "python",
      "name": "python3"
    },
    "language_info": {
      "codemirror_mode": {
        "name": "ipython",
        "version": 3
      },
      "file_extension": ".py",
      "mimetype": "text/x-python",
      "name": "python",
      "nbconvert_exporter": "python",
      "pygments_lexer": "ipython3",
      "version": "3.12.3"
    },
    "colab": {
      "provenance": [],
      "include_colab_link": true
    }
  },
  "nbformat": 4,
  "nbformat_minor": 5
}